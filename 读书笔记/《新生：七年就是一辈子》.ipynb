{
 "cells": [
  {
   "cell_type": "raw",
   "metadata": {},
   "source": [
    "P\n",
    "标题：前言\n",
    "-\n",
    "只有靠自到行动才能改变自己。\n",
    "-\n",
    "我们就好像计算机一样，通过不断打磨、升级概念与方法论来升级我们的操作系统；与计算机不一样的是，我们甚至可以升级自己的硬件。\n",
    "-\n",
    "习得任何技能的过程中，我们都知道刻意训练并不依赖任何运气，只要付出就有收获。\n",
    "-\n",
    "我们相信一切的努力都遵循复利效应，只要有耐心，通过积累，就可以达到之前无法想象的效果。\n",
    "-\n",
    "学习其实很简单，核心只不过是深入理解最重要的概念，不断总结与之相关的方法论。"
   ]
  },
  {
   "cell_type": "markdown",
   "metadata": {},
   "source": [
    "-\n",
    "行动才能产生改变，那么此时如何让自己开始行动起来就成了一个焦点。首先，一定要对我们的目标做减法，过多的目标最终的结果是我们漫无目的。\n",
    "\n",
    "-\n",
    "首先是概念，我们要如何打磨我们概念，通过什么样的方式才可以正确、高效地升级它们，并且最终的目标是什么？\n",
    "其次是方法论，方法论这个概念的定义是什么，我们要如何建立自己的方法论体系？\n",
    "\n",
    "我们的价值观"
   ]
  },
  {
   "cell_type": "code",
   "execution_count": null,
   "metadata": {},
   "outputs": [],
   "source": []
  }
 ],
 "metadata": {
  "kernelspec": {
   "display_name": "Python 3",
   "language": "python",
   "name": "python3"
  },
  "language_info": {
   "codemirror_mode": {
    "name": "ipython",
    "version": 3
   },
   "file_extension": ".py",
   "mimetype": "text/x-python",
   "name": "python",
   "nbconvert_exporter": "python",
   "pygments_lexer": "ipython3",
   "version": "3.7.4"
  }
 },
 "nbformat": 4,
 "nbformat_minor": 4
}
