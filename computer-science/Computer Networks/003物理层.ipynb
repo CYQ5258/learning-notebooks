{
 "cells": [
  {
   "cell_type": "markdown",
   "metadata": {},
   "source": [
    "# 数据通信的理论基础"
   ]
  },
  {
   "cell_type": "markdown",
   "metadata": {},
   "source": [
    "* **物理层上数据的传输：信号** \n",
    "    \n",
    "    * 信号在信道/传输介质上传输：\n",
    "    * 物理带宽：···\n",
    "    * 数字带宽：···\n",
    "    - 数字带宽和物理带宽之间的关系：···\n",
    "    * 麦克斯韦定理/奈奎斯特定理（无噪声/理想信道）\n",
    "        - ··\n",
    "    * 香农定理（有噪声信道）\n",
    "        - ··"
   ]
  },
  {
   "cell_type": "markdown",
   "metadata": {},
   "source": [
    "**物理层的功能：**\n",
    "* 主要功能：提供透明的比特流传输\n",
    "* 注意：\n",
    "    * "
   ]
  },
  {
   "cell_type": "markdown",
   "metadata": {},
   "source": [
    "四大特性：\n",
    "* 机械特性：\n",
    "* 电气特性：\n",
    "* 功能特性：\n",
    "* 规程特性：\n"
   ]
  },
  {
   "cell_type": "markdown",
   "metadata": {},
   "source": [
    "***"
   ]
  },
  {
   "cell_type": "markdown",
   "metadata": {
    "toc-hr-collapsed": false
   },
   "source": [
    "# 有导向的传输介质"
   ]
  },
  {
   "cell_type": "markdown",
   "metadata": {},
   "source": [
    "* **传输介质**\n",
    "    * 引导型（有线）\n",
    "        * 铜线\n",
    "        * 光缆\n",
    "    * 非引导型（无线）\n",
    "        * 卫星"
   ]
  },
  {
   "cell_type": "markdown",
   "metadata": {},
   "source": [
    "### **引导型**"
   ]
  },
  {
   "cell_type": "markdown",
   "metadata": {},
   "source": [
    "***"
   ]
  },
  {
   "cell_type": "markdown",
   "metadata": {},
   "source": [
    "**铜线**"
   ]
  },
  {
   "cell_type": "markdown",
   "metadata": {},
   "source": [
    "* **电缆\n",
    "    * 同轴电缆\n",
    "        * 粗缆\n",
    "        * 细缆\n",
    "        \n",
    "* **双绞线**\n",
    " * 屏蔽双绞线：···（特点、用途、优缺点）\n",
    " * 非屏蔽双绞线：···\n",
    " * 网屏式双绞线\n",
    " \n",
    "* 直通线\n",
    "* 交叉线\n",
    "* 电力线"
   ]
  },
  {
   "cell_type": "markdown",
   "metadata": {},
   "source": [
    "***"
   ]
  },
  {
   "cell_type": "markdown",
   "metadata": {},
   "source": [
    "**光纤**"
   ]
  },
  {
   "cell_type": "markdown",
   "metadata": {},
   "source": [
    "* 工作原理：全反射\n",
    "* 优点：重量轻、损耗低、不受电磁辐射干扰、容量大\n",
    "* 缺点：昂贵、易断裂\n",
    "\n",
    "* 光源\n",
    "* 单模、多膜：区别、\n",
    "\n",
    "* 光纤连接\n",
    "    * 连接器\n",
    "    * 机械拼接\n",
    "    * 融合\n",
    "- 用途：···"
   ]
  },
  {
   "cell_type": "markdown",
   "metadata": {},
   "source": []
  },
  {
   "cell_type": "markdown",
   "metadata": {},
   "source": [
    "***"
   ]
  },
  {
   "cell_type": "markdown",
   "metadata": {},
   "source": [
    "# 复用技术"
   ]
  },
  {
   "cell_type": "markdown",
   "metadata": {},
   "source": [
    "* 解决干线起点如何共用、干线支点如何分离的问题\n",
    "* 复用技术是让多用户共享同一根信道\n",
    "\n",
    "* 子带、正交FDM、"
   ]
  },
  {
   "cell_type": "markdown",
   "metadata": {},
   "source": [
    "- 在哪里服用：···\n",
    "- 各复用技术的工作原理：···"
   ]
  },
  {
   "cell_type": "markdown",
   "metadata": {},
   "source": [
    "## 频分多路复用FDM技术"
   ]
  },
  {
   "cell_type": "markdown",
   "metadata": {},
   "source": [
    "* 波分多路复用WDM"
   ]
  },
  {
   "cell_type": "markdown",
   "metadata": {},
   "source": [
    "* 密集波分多路复用DWDM"
   ]
  },
  {
   "cell_type": "markdown",
   "metadata": {},
   "source": [
    "## 时分多路复用TDM技术"
   ]
  },
  {
   "cell_type": "markdown",
   "metadata": {},
   "source": [
    "* 统计时分多路复用技术"
   ]
  },
  {
   "cell_type": "markdown",
   "metadata": {},
   "source": [
    "## 码分多路复用技术CDMA"
   ]
  },
  {
   "cell_type": "markdown",
   "metadata": {},
   "source": [
    "***"
   ]
  },
  {
   "cell_type": "markdown",
   "metadata": {
    "toc-hr-collapsed": false
   },
   "source": [
    "# 调制技术"
   ]
  },
  {
   "cell_type": "markdown",
   "metadata": {},
   "source": [
    "- 什么时候需要调制：···\n",
    "- 信号星座：···\n",
    "- 什么是 波特率/采样率/符号率：···"
   ]
  },
  {
   "cell_type": "markdown",
   "metadata": {},
   "source": [
    "### 传输信号的方式"
   ]
  },
  {
   "cell_type": "markdown",
   "metadata": {},
   "source": [
    "* 基带传输\n",
    "* 通带传输"
   ]
  },
  {
   "cell_type": "markdown",
   "metadata": {},
   "source": [
    "### 线路编码方法"
   ]
  },
  {
   "cell_type": "markdown",
   "metadata": {},
   "source": [
    "* NRZ\n",
    "* NRZI\n",
    "- 曼彻斯特编码\n",
    "-双极型编码"
   ]
  },
  {
   "cell_type": "markdown",
   "metadata": {},
   "source": [
    "### 基本调制方法"
   ]
  },
  {
   "cell_type": "markdown",
   "metadata": {},
   "source": [
    "- 调幅\n",
    "- 调频\n",
    "- 调相\n",
    "\n",
    "- 工作原理分别是：···"
   ]
  },
  {
   "cell_type": "markdown",
   "metadata": {},
   "source": [
    "***"
   ]
  },
  {
   "cell_type": "markdown",
   "metadata": {},
   "source": [
    "# 公共交换电话网络"
   ]
  },
  {
   "cell_type": "markdown",
   "metadata": {},
   "source": [
    "- PSTN:···\n",
    "    - 本地回路：调制解调器（猫）\n",
    "    - 端局/交换局\n",
    "    - 干线\n",
    "- 调制解调器（猫）：\n",
    "    - 位置：··\n",
    "    - 用途：··\n",
    "    - 64k 是如何得出：··\n",
    "\n",
    "- Codec：\n",
    "    - 位置：··\n",
    "    - 用途：··\n",
    "\n",
    "- T1基本复用帧：\n",
    "    - 多少位开销：··\n",
    "    - 总带宽：··\n",
    "\n",
    "- xDSL\n",
    "- 1M的频宽：上行、下行、\n",
    "- 光进铜退：FTTM\n",
    "- 干线：多路复用\n",
    "- E1系列线路\n",
    "- 同步控制\n",
    "\n",
    "- PSTN：交换\n",
    "    - 电路交换：\n",
    "    - 分组/包交换：容错能力强；按需送达；按流量计费\n",
    "    - "
   ]
  },
  {
   "cell_type": "markdown",
   "metadata": {},
   "source": []
  },
  {
   "cell_type": "markdown",
   "metadata": {},
   "source": [
    "***"
   ]
  },
  {
   "cell_type": "markdown",
   "metadata": {},
   "source": [
    "# 物理层设备"
   ]
  },
  {
   "cell_type": "markdown",
   "metadata": {},
   "source": [
    "## 收发器 - Transceiver（MAU）\n",
    "\n",
    "- Transceiver = Transmitter + Receiver\n",
    "- 将一种形式的信号**转变**成另一种信号\n",
    "- 早期是一个外设，现在是网卡上的部件\n",
    "- ···"
   ]
  },
  {
   "cell_type": "markdown",
   "metadata": {},
   "source": [
    "## 中继器 Reapter\n",
    "- 有源设备\n",
    "- 再生信号\n",
    "- 不能过滤\n",
    "- 过滤：···\n",
    "- 作用：··"
   ]
  },
  {
   "cell_type": "markdown",
   "metadata": {},
   "source": [
    "## 集线器 Hub\n",
    "\n",
    "- 多端口的中继器\n",
    "- 再生信号：去噪、放大\n",
    "- 多端口\n",
    "- 星型拓扑的中心\n",
    "- 不能过滤交通流量\n",
    "- 广播：从除了来的那个端口外的其他端口··\n",
    "- 作用：··"
   ]
  },
  {
   "cell_type": "markdown",
   "metadata": {},
   "source": [
    "## 冲突\n",
    "\n",
    "- 冲突：··\n",
    "- 冲突域：··"
   ]
  },
  {
   "cell_type": "markdown",
   "metadata": {},
   "source": [
    "## 小结\n",
    "\n",
    "- 物理层的设备都是傻瓜设备，不具备过滤流量等智能功能\n",
    "- 物理层设备的使用，增大了冲突域，降低了网络的性能\n",
    "- 现在，已经很少再使用中继器（光中继器除外）和集线器了"
   ]
  },
  {
   "cell_type": "markdown",
   "metadata": {},
   "source": []
  },
  {
   "cell_type": "markdown",
   "metadata": {},
   "source": []
  },
  {
   "cell_type": "markdown",
   "metadata": {},
   "source": []
  },
  {
   "cell_type": "markdown",
   "metadata": {},
   "source": []
  },
  {
   "cell_type": "markdown",
   "metadata": {},
   "source": []
  },
  {
   "cell_type": "markdown",
   "metadata": {},
   "source": []
  },
  {
   "cell_type": "markdown",
   "metadata": {},
   "source": []
  },
  {
   "cell_type": "markdown",
   "metadata": {},
   "source": []
  }
 ],
 "metadata": {
  "kernelspec": {
   "display_name": "C++11",
   "language": "C++",
   "name": "cling-cpp11"
  },
  "language_info": {
   "name": ""
  }
 },
 "nbformat": 4,
 "nbformat_minor": 4
}
