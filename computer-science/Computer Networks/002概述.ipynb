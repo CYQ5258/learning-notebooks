{
 "cells": [
  {
   "cell_type": "markdown",
   "metadata": {},
   "source": [
    "# 基本概念"
   ]
  },
  {
   "cell_type": "markdown",
   "metadata": {},
   "source": [
    "> `computer networks`: 使用单一技术相互连接的自主计算机的互联集合 \n",
    ">* *（单台计算机的独立自主性）*\n",
    ">* *链接介质：光纤、铜线、微波、红外、卫星*\n",
    "\n",
    ">* 广义上的网络：类似的事物连接在一起，以提供某些功能（交通网络、自来水网络）\n",
    "\n",
    ">* "
   ]
  },
  {
   "cell_type": "markdown",
   "metadata": {},
   "source": [
    "> `world wide web`(万维网)：构建在互联网上的一个分布式系统"
   ]
  },
  {
   "cell_type": "markdown",
   "metadata": {},
   "source": [
    "> `拓扑`: 信道的分布方式\n",
    "\n",
    ">* `信道`：信号的通道\n",
    "\n",
    ">* 常见拓扑：总线型、星型、环形、树形、网状\n",
    "\n",
    ">* `总线拓扑`：主机挂接在总线上，相互直接通达\n",
    "\n",
    ">* `星型拓扑`：主机都挂接在一个中心节点（交换机充当）上"
   ]
  },
  {
   "cell_type": "markdown",
   "metadata": {},
   "source": [
    "> `协议`: 一系列规则和约定的规范性描述；他控制网络中的设备之间如何进行信息交换\n",
    "\n",
    ">* "
   ]
  },
  {
   "cell_type": "markdown",
   "metadata": {},
   "source": [
    "> `数字带宽`：单位时间内流经的信息总量（越大越好）\n",
    "\n",
    ">* 基本单位：比特每秒，即bps（常用更大的k，M，G。）"
   ]
  },
  {
   "cell_type": "markdown",
   "metadata": {},
   "source": [
    "> `Throughput`（吞吐量）：指实际的、可测到的带宽（用户感到网络好还是不好的重要指标）"
   ]
  },
  {
   "cell_type": "markdown",
   "metadata": {},
   "source": [
    "> `点到点`: 信源机和信宿机之间的通信有一段一段的直接相连的机器间的通信组成；机器间的直接连接叫做点到点链接\n",
    "\n",
    "> `端到端`: 信源机和信宿机之间直接通信，好像拥有一条直接的线路"
   ]
  },
  {
   "cell_type": "markdown",
   "metadata": {},
   "source": [
    "> `计算机网络的分类`\n",
    "\n",
    ">* 传输介质分：有线网络、无线网络\n",
    "\n",
    ">* 网络大小和规模分：最小-PAN（覆盖1米左右）、局域网-LAN（覆盖一公里）、城域网-MAN（十公里）、广域网-WAN（100/1000公里-国家）、互联网-Internet（全球）"
   ]
  },
  {
   "cell_type": "markdown",
   "metadata": {},
   "source": [
    "# 参考模型"
   ]
  },
  {
   "cell_type": "markdown",
   "metadata": {},
   "source": [
    "## 分层模型"
   ]
  },
  {
   "cell_type": "markdown",
   "metadata": {},
   "source": [
    "> 分层的好处：\n",
    "\n",
    "> 分层原则："
   ]
  },
  {
   "cell_type": "markdown",
   "metadata": {},
   "source": [
    "`**典型分层模型**`："
   ]
  },
  {
   "cell_type": "markdown",
   "metadata": {},
   "source": [
    ">* ISO OSI七层模型: 应用层、表示层、会话层、传输层、网络层、数据链路层、物理层"
   ]
  },
  {
   "cell_type": "markdown",
   "metadata": {},
   "source": [
    ">* TCP/IP（DoD）四层模型：应用层、传输层、Internet层、物理层"
   ]
  },
  {
   "cell_type": "markdown",
   "metadata": {},
   "source": [
    "参考模型上的每一层都实现一定的功能，利用下层提供的服务为它的上层提供服务"
   ]
  },
  {
   "cell_type": "markdown",
   "metadata": {},
   "source": [
    "# 数据传输"
   ]
  },
  {
   "cell_type": "markdown",
   "metadata": {},
   "source": [
    "三个主角：发送方、接收方、中间信号通道"
   ]
  },
  {
   "cell_type": "markdown",
   "metadata": {},
   "source": [
    "> 发送方：`封装/打包`\n",
    "\n"
   ]
  },
  {
   "cell_type": "markdown",
   "metadata": {},
   "source": [
    "> 接收方: `解封装/解包`"
   ]
  },
  {
   "cell_type": "markdown",
   "metadata": {},
   "source": [
    "**协议数据单元PDU**\n",
    "\n",
    "> 信息（information，应用层）\n",
    "\n",
    "> 数据流（Data stream，上三层）\n",
    "\n",
    "> 数据段（Segment，传输层）\n",
    "\n",
    "> 分组（Packet，网络层）\n",
    "\n",
    "> 帧（Frame，数据链路层）\n",
    "\n",
    "> 比特流（Bits，物理层）"
   ]
  },
  {
   "cell_type": "markdown",
   "metadata": {},
   "source": [
    "> `实体（Entity）`： 每层中活动的元素\n",
    "\n",
    ">* 对等实体\n",
    "\n",
    "> 虚拟通信（对等通信）："
   ]
  },
  {
   "cell_type": "markdown",
   "metadata": {},
   "source": [
    "**服务、协议和接口之间的关系**：参考模型是那个的每一层都为它的上层提供服务，以接口的形式供上层调用；协议作用于对应层之间；层与层之间有借口，用于服务的调用\n",
    "\n"
   ]
  },
  {
   "cell_type": "markdown",
   "metadata": {},
   "source": [
    "# 课程组织"
   ]
  },
  {
   "cell_type": "markdown",
   "metadata": {},
   "source": [
    "**五层参考模型**：\n",
    "\n",
    ">* Application layer\n",
    ">* Transport layer\n",
    ">* Network layer\n",
    ">* Data Link layer\n",
    ">* Physical layer"
   ]
  },
  {
   "cell_type": "markdown",
   "metadata": {},
   "source": []
  },
  {
   "cell_type": "markdown",
   "metadata": {},
   "source": []
  },
  {
   "cell_type": "markdown",
   "metadata": {},
   "source": []
  },
  {
   "cell_type": "markdown",
   "metadata": {},
   "source": []
  },
  {
   "cell_type": "markdown",
   "metadata": {},
   "source": []
  },
  {
   "cell_type": "markdown",
   "metadata": {},
   "source": []
  },
  {
   "cell_type": "markdown",
   "metadata": {},
   "source": []
  },
  {
   "cell_type": "markdown",
   "metadata": {},
   "source": []
  },
  {
   "cell_type": "markdown",
   "metadata": {},
   "source": []
  }
 ],
 "metadata": {
  "kernelspec": {
   "display_name": "Python 3",
   "language": "python",
   "name": "python3"
  },
  "language_info": {
   "codemirror_mode": {
    "name": "ipython",
    "version": 3
   },
   "file_extension": ".py",
   "mimetype": "text/x-python",
   "name": "python",
   "nbconvert_exporter": "python",
   "pygments_lexer": "ipython3",
   "version": "3.7.4"
  }
 },
 "nbformat": 4,
 "nbformat_minor": 4
}
