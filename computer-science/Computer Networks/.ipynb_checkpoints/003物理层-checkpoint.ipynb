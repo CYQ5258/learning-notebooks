{
 "cells": [
  {
   "cell_type": "markdown",
   "metadata": {},
   "source": [
    "# 数据通信的理论基础"
   ]
  },
  {
   "cell_type": "markdown",
   "metadata": {},
   "source": [
    "* **物理层上数据的传输：信号** \n",
    "    \n",
    "    * 信号在信道/传输介质上传输：\n",
    "    * 物理带宽\n",
    "    * 数字带宽\n",
    "    * 麦克斯韦定理/奈奎斯特定理（无噪声/理想信道）\n",
    "    * 香农定理（有噪声信道）"
   ]
  },
  {
   "cell_type": "markdown",
   "metadata": {},
   "source": [
    "**物理层的功能：**\n",
    "* 主要功能：提供透明的比特流传输\n",
    "* 注意：\n",
    "    * "
   ]
  },
  {
   "cell_type": "markdown",
   "metadata": {},
   "source": [
    "四大特性：\n",
    "* 机械特性：\n",
    "* 电气特性：\n",
    "* 功能特性：\n",
    "* 规程特性：\n"
   ]
  },
  {
   "cell_type": "markdown",
   "metadata": {},
   "source": []
  },
  {
   "cell_type": "markdown",
   "metadata": {},
   "source": [
    "# 有导向的传输介质"
   ]
  },
  {
   "cell_type": "markdown",
   "metadata": {},
   "source": [
    "* **传输介质**\n",
    "    * 引导型（有线）\n",
    "        * 铜线\n",
    "        * 光缆\n",
    "    * 非引导型（无线）\n",
    "        * 卫星"
   ]
  },
  {
   "cell_type": "markdown",
   "metadata": {},
   "source": [
    "### **引导型**"
   ]
  },
  {
   "cell_type": "markdown",
   "metadata": {},
   "source": [
    "***"
   ]
  },
  {
   "cell_type": "markdown",
   "metadata": {},
   "source": [
    "**铜线**"
   ]
  },
  {
   "cell_type": "markdown",
   "metadata": {},
   "source": [
    "* **电缆\n",
    "    * 同轴电缆\n",
    "        * 粗缆\n",
    "        * 细缆\n",
    "        \n",
    "* **双绞线**\n",
    " * 屏蔽双绞线\n",
    " * 非屏蔽双绞线\n",
    " * 网屏式双绞线\n",
    " \n",
    "* 直通线\n",
    "* 交叉线\n",
    "* 电力线"
   ]
  },
  {
   "cell_type": "markdown",
   "metadata": {},
   "source": [
    "***"
   ]
  },
  {
   "cell_type": "markdown",
   "metadata": {},
   "source": [
    "**光纤**"
   ]
  },
  {
   "cell_type": "markdown",
   "metadata": {},
   "source": [
    "* 工作原理：全反射\n",
    "* 优点：重量轻、损耗低、不受电磁辐射干扰、容量大\n",
    "* 缺点：昂贵、易断裂\n",
    "\n",
    "* 光源\n",
    "* 单模、多膜\n",
    "\n",
    "* 光纤连接\n",
    "    * 连接器\n",
    "    * 机械拼接\n",
    "    * 融合"
   ]
  },
  {
   "cell_type": "markdown",
   "metadata": {},
   "source": []
  },
  {
   "cell_type": "markdown",
   "metadata": {},
   "source": []
  },
  {
   "cell_type": "markdown",
   "metadata": {},
   "source": [
    "# 复用技术"
   ]
  },
  {
   "cell_type": "markdown",
   "metadata": {},
   "source": [
    "* 解决干线起点如何共用、干线支点如何分离的问题\n",
    "* 复用技术是让多用户共享同一根信道\n",
    "\n",
    "* 子带、正交FDM、"
   ]
  },
  {
   "cell_type": "markdown",
   "metadata": {},
   "source": [
    "## 频分多路复用FDM技术"
   ]
  },
  {
   "cell_type": "markdown",
   "metadata": {},
   "source": [
    "* 波分多路复用WDM"
   ]
  },
  {
   "cell_type": "markdown",
   "metadata": {},
   "source": [
    "* 密集波分多路复用DWDM"
   ]
  },
  {
   "cell_type": "markdown",
   "metadata": {},
   "source": [
    "## 时分多路复用TDM技术"
   ]
  },
  {
   "cell_type": "markdown",
   "metadata": {},
   "source": [
    "* 统计时分多路复用技术"
   ]
  },
  {
   "cell_type": "markdown",
   "metadata": {},
   "source": [
    "## 码分多路复用技术CDMA"
   ]
  },
  {
   "cell_type": "markdown",
   "metadata": {},
   "source": [
    "# 调制技术"
   ]
  },
  {
   "cell_type": "markdown",
   "metadata": {},
   "source": []
  },
  {
   "cell_type": "markdown",
   "metadata": {},
   "source": []
  },
  {
   "cell_type": "markdown",
   "metadata": {},
   "source": []
  },
  {
   "cell_type": "markdown",
   "metadata": {},
   "source": [
    "# 公共交换电话网络"
   ]
  },
  {
   "cell_type": "markdown",
   "metadata": {},
   "source": []
  },
  {
   "cell_type": "markdown",
   "metadata": {},
   "source": []
  },
  {
   "cell_type": "markdown",
   "metadata": {},
   "source": []
  },
  {
   "cell_type": "markdown",
   "metadata": {},
   "source": [
    "# 物理层设备"
   ]
  },
  {
   "cell_type": "markdown",
   "metadata": {},
   "source": []
  },
  {
   "cell_type": "markdown",
   "metadata": {},
   "source": []
  },
  {
   "cell_type": "markdown",
   "metadata": {},
   "source": []
  }
 ],
 "metadata": {
  "kernelspec": {
   "display_name": "C++11",
   "language": "C++",
   "name": "cling-cpp11"
  },
  "language_info": {
   "name": ""
  }
 },
 "nbformat": 4,
 "nbformat_minor": 4
}
