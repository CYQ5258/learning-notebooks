{
 "cells": [
  {
   "cell_type": "code",
   "execution_count": 3,
   "metadata": {},
   "outputs": [],
   "source": [
    "#include <iostream> \n",
    "using namespace std; "
   ]
  },
  {
   "cell_type": "code",
   "execution_count": 4,
   "metadata": {},
   "outputs": [],
   "source": [
    "int main() \n",
    "{     \n",
    "    double length;     \n",
    "    double width;     \n",
    "    double area;     \n",
    "    double perimeter;      \n",
    "    cout << \"Program to compute and output the perimeter and \"          \n",
    "         << \"area of a rectangle.\" << endl;      \n",
    "    \n",
    "    length = 6.0;     \n",
    "    width = 4.0;     \n",
    "    perimeter = 2 * (length + width);      \n",
    "    area = length * width;       \n",
    "    \n",
    "    cout << \"Length = \" << length << endl;     \n",
    "    cout << \"Width =  \" << width << endl;     \n",
    "    cout << \"Perimeter = \" << perimeter << endl;     \n",
    "    cout << \"Area = \" << area << endl;      \n",
    "    \n",
    "    return 0; \n",
    "}"
   ]
  },
  {
   "cell_type": "code",
   "execution_count": 5,
   "metadata": {},
   "outputs": [],
   "source": [
    "\n",
    "\n",
    "#include <iostream>\n",
    "using namespace std;\n"
   ]
  },
  {
   "cell_type": "code",
   "execution_count": 6,
   "metadata": {},
   "outputs": [
    {
     "name": "stderr",
     "output_type": "stream",
     "text": [
      "\u001b[1minput_line_15:1:5: \u001b[0m\u001b[0;1;31merror: \u001b[0m\u001b[1mredefinition of 'main'\u001b[0m\n",
      "int main() {\n",
      "\u001b[0;1;32m    ^\n",
      "\u001b[0m\u001b[1minput_line_12:1:5: \u001b[0m\u001b[0;1;30mnote: \u001b[0mprevious definition is here\u001b[0m\n",
      "int main() \n",
      "\u001b[0;1;32m    ^\n",
      "\u001b[0m"
     ]
    },
    {
     "ename": "Interpreter Error",
     "evalue": "",
     "output_type": "error",
     "traceback": [
      "Interpreter Error: "
     ]
    }
   ],
   "source": [
    "\n",
    "int main() {\n",
    "  cout << \"Hello World!\";\n",
    "  return 0;\n",
    "}"
   ]
  },
  {
   "cell_type": "code",
   "execution_count": null,
   "metadata": {},
   "outputs": [],
   "source": []
  },
  {
   "cell_type": "code",
   "execution_count": null,
   "metadata": {},
   "outputs": [],
   "source": []
  }
 ],
 "metadata": {
  "kernelspec": {
   "display_name": "C++11",
   "language": "C++11",
   "name": "xcpp11"
  },
  "language_info": {
   "codemirror_mode": "text/x-c++src",
   "file_extension": ".cpp",
   "mimetype": "text/x-c++src",
   "name": "c++",
   "version": "11"
  }
 },
 "nbformat": 4,
 "nbformat_minor": 4
}
