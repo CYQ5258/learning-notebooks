{
 "cells": [
  {
   "cell_type": "markdown",
   "metadata": {},
   "source": [
    "# 导学"
   ]
  },
  {
   "cell_type": "markdown",
   "metadata": {},
   "source": [
    "- 要点：\n",
    "    - 计算机基本功能是数据处理\n",
    "    - 数据类型\n",
    "        - 整数\n",
    "        - 实数\n",
    "        - 字符\n",
    "        - 布尔\n",
    "    - 基本运算\n",
    "        - 算术运算\n",
    "        - 逻辑运算\n",
    "    - 输入数据、输出数据（执行结果）\n",
    "        - 调用预定义的功能模块\n",
    "    - 执行流程\n",
    "        - 选择、开关语句（对执行流程进行选择）\n",
    "        - 循环语句（反复用同一算法）\n",
    "            - 重复处理\n",
    "    - 想表示自然界中\n",
    "        - 程序中自定义类型\n",
    "            - 枚举类型\n",
    "            \n",
    "- 要求：\n",
    "    - 学习视频课件\n",
    "    - 阅读教材第二章\n",
    "    - 完成实验2\n",
    "    - 完成在线选择题和编程题\n",
    "    - 在编译环境中调试观察程序运行情况"
   ]
  },
  {
   "cell_type": "markdown",
   "metadata": {},
   "source": [
    "# C++语言概述"
   ]
  },
  {
   "cell_type": "markdown",
   "metadata": {},
   "source": [
    "# 基本数据类型、常量、变量"
   ]
  },
  {
   "cell_type": "markdown",
   "metadata": {},
   "source": [
    "# 运算与表达式"
   ]
  },
  {
   "cell_type": "markdown",
   "metadata": {},
   "source": [
    "# 实验二：简单程序设计"
   ]
  },
  {
   "cell_type": "markdown",
   "metadata": {},
   "source": [
    "# 数据的输入和输出"
   ]
  },
  {
   "cell_type": "markdown",
   "metadata": {},
   "source": [
    "# 选择结构\n",
    "- if语句\n",
    "    - If语句的语法形式\n",
    "    - ![](images_C++/002-0701.png)\n",
    "    \n",
    "- 嵌套的if语句\n",
    "    - ![](images_C++/002-0702.png)\n",
    "    \n",
    "- switch语句\n",
    "    - ![](images_C++/002-0703.png)\n",
    "    - 注意不要忘记 `break` 语句\n",
    "    - ![](images_C++/002-0704.png)"
   ]
  },
  {
   "cell_type": "markdown",
   "metadata": {},
   "source": [
    "# 循环结构\n",
    "- `while` 语句\n",
    "    - ![](images_C++/002-0801.png)\n",
    "    - ![](images_C++/002-0802.png)\n",
    "    \n",
    "- DO-while 语句\n",
    "    - ![](images_C++/002-0803.png)\n",
    "    - 程序对比：\n",
    "        - 需要 `先判断` 还是要求 `至少执行一次`\n",
    "        - ![](images_C++/002-0804.png)\n",
    "        \n",
    "- `for` 语句\n",
    "    - ![](images_C++/002-0805.png)\n",
    "    - 范围for循环：![](images_C++/002-0806.png)\n",
    "    \n",
    "- 嵌套的控制结构、其他控制语句\n",
    "    - 嵌套：如矩阵（行、列）\n",
    "        - ![](images_C++/002-0807.png)\n",
    "    - 其他控制语句：![](images_C++/002-0808.png)"
   ]
  },
  {
   "cell_type": "markdown",
   "metadata": {},
   "source": [
    "# 自定义类型\n",
    "- 类型别名：为已有类型另外命名\n",
    "    - ![](images_C++/002-0901.png)\n",
    "    - ![](images_C++/002-0902.png)\n",
    "\n",
    "- 枚举类型\n",
    "    - ![](images_C++/002-0903.png)\n",
    "    - ![](images_C++/002-0904.png)\n",
    "    - ![](images_C++/002-0905.png)\n",
    "    - 代码练习：![](images_C++/002-0906.png)\n",
    "\n",
    "- auto类型与decltype类型\n",
    "    - ![](images_C++/002-0907.png)"
   ]
  },
  {
   "cell_type": "markdown",
   "metadata": {},
   "source": [
    "# 小结\n",
    "- C++的简单程序设计：起源、基本概念语法、流程控制\n",
    "- 达到的目标：\n",
    "    - 能够编写小程序\n",
    "    - 学会编译连接和执行程序\n",
    "    - 学会调试"
   ]
  },
  {
   "cell_type": "markdown",
   "metadata": {},
   "source": [
    "# 实验二：C++简单程序设计下\n",
    "- 通过实验进一步理解以下内容\n",
    "    - 结构化程序设计基本控制结构的运用\n",
    "    - 自定义数据类型的应用\n",
    "    - 复习简单的输入输出、头文件的作用、常用Debug功能"
   ]
  },
  {
   "cell_type": "markdown",
   "metadata": {},
   "source": [
    "# 编程作业"
   ]
  },
  {
   "cell_type": "markdown",
   "metadata": {},
   "source": []
  }
 ],
 "metadata": {
  "kernelspec": {
   "display_name": "C++11",
   "language": "C++11",
   "name": "xcpp11"
  },
  "language_info": {
   "codemirror_mode": "text/x-c++src",
   "file_extension": ".cpp",
   "mimetype": "text/x-c++src",
   "name": "c++",
   "version": "11"
  },
  "toc-autonumbering": true
 },
 "nbformat": 4,
 "nbformat_minor": 4
}
