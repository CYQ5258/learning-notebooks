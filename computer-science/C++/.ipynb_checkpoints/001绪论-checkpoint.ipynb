{
 "cells": [
  {
   "cell_type": "markdown",
   "metadata": {},
   "source": [
    "# 重点内容、方法、要求"
   ]
  },
  {
   "cell_type": "markdown",
   "metadata": {},
   "source": [
    "- 计算机系统\n",
    "- 计算机语言\n",
    "- 计算机语言的级别：机器语言、汇编语言、**高级语言**\n",
    "- C++面向对象高级语言\n",
    "- 类：封装\n",
    "- 程序设计方法\n",
    "- C++程序开发过程\n",
    "    - 算法设计\n",
    "    - 源程序编辑\n",
    "    - 编译\n",
    "    - 连接\n",
    "    - 运行调试\n",
    "- 信息在计算机中的表示与存储：二进制\n",
    "\n",
    "- 建议：\n",
    "    - 看教学视频\n",
    "    - 做练习题\n",
    "    - 完事“实验一”"
   ]
  },
  {
   "cell_type": "markdown",
   "metadata": {},
   "source": [
    "# 计算机系统"
   ]
  },
  {
   "cell_type": "markdown",
   "metadata": {},
   "source": [
    "- 输入系统\n",
    "- 内存储器\n",
    "- 外存储器\n",
    "- CPU\n",
    "- 输出设备"
   ]
  },
  {
   "cell_type": "markdown",
   "metadata": {},
   "source": [
    "- 计算机指令系统：机器硬件能够是别的语言（机器语言）的集合；它是软件和硬件的主要界面\n",
    "- 计算机识别机器语言（0、1）"
   ]
  },
  {
   "cell_type": "markdown",
   "metadata": {},
   "source": [
    "- 计算机软件\n",
    "    - 应用软件\n",
    "    - 系统软件：Windows、Linux、macOS\n",
    "    - 中间件\n",
    "- 软件 = 程序 + 文档"
   ]
  },
  {
   "cell_type": "markdown",
   "metadata": {},
   "source": [
    "- 计算机程序\n",
    "    - 指令的序列"
   ]
  },
  {
   "cell_type": "markdown",
   "metadata": {
    "toc-hr-collapsed": true
   },
   "source": [
    "# 计算机语言和程序设计方法的发展"
   ]
  },
  {
   "cell_type": "markdown",
   "metadata": {},
   "source": [
    "## 计算机语言发展历程"
   ]
  },
  {
   "cell_type": "markdown",
   "metadata": {},
   "source": [
    "- 机器语言\n",
    "    - 二进制代码\n",
    "    - 硬件可识别\n",
    "    - 可表示简单的操作\n",
    "\n",
    "- 汇编语言\n",
    "    - 加了助记符\n",
    "\n",
    "- 高级语言\n",
    "    - 关键字】语句\n",
    "    - 有含义的数据命名和算式\n",
    "    - 抽象层次较高\n",
    "    - 屏蔽了机器的细节"
   ]
  },
  {
   "cell_type": "markdown",
   "metadata": {},
   "source": [
    "- C++语言\n",
    "    - 高级语言\n",
    "    - 面向对象的观点和方法\n",
    "        - 将客观事物看作对象\n",
    "        - 对象间通过消息传送进行沟通\n",
    "        - 支持分类和抽象"
   ]
  },
  {
   "cell_type": "markdown",
   "metadata": {},
   "source": [
    "## 程序设计方法和发展历程"
   ]
  },
  {
   "cell_type": "markdown",
   "metadata": {},
   "source": [
    "- 面向过程···：\n",
    "    - 目的：用于数学计算\n",
    "    - 主要工作：设计求解问题的过程"
   ]
  },
  {
   "cell_type": "markdown",
   "metadata": {},
   "source": [
    "- 面向对象的程序设计方法：\n",
    "    - 相应的高级语言\n",
    "    - 一个系统有对象构成\n",
    "    - 对象与对象之间通过消息进行通信"
   ]
  },
  {
   "cell_type": "markdown",
   "metadata": {},
   "source": [
    "# 面向对象的基本概念"
   ]
  },
  {
   "cell_type": "markdown",
   "metadata": {},
   "source": [
    "- 对象-Objects\n",
    "\n",
    "- 抽象与分类\n",
    "    - 分类所依据的原则——抽象\n",
    "    - 抽象出同一类对象的共同属性和行为，形成类\n",
    "    - 类与对象的关系：类型与实例的关系犹如模具与铸件之间的关系"
   ]
  },
  {
   "cell_type": "markdown",
   "metadata": {},
   "source": [
    "- 封装\n",
    "    - \n",
    "    \n",
    "- 继承\n",
    "    - 软件复用\n",
    "    - 改造、扩展已有类型形成新的类\n",
    "    \n",
    "- 多态性：同样的消息作用在不认同对象上可能引起不同的行为"
   ]
  },
  {
   "cell_type": "markdown",
   "metadata": {},
   "source": [
    "# 程序的开发过程"
   ]
  },
  {
   "cell_type": "markdown",
   "metadata": {},
   "source": [
    "- 高级语言 ➡️ 机器语言\n",
    "    - 目标程序：···\n",
    "    - 可执行程序：连接目标程序···"
   ]
  },
  {
   "cell_type": "markdown",
   "metadata": {},
   "source": [
    "- 翻译程序：\n",
    "    - 汇编程序：将汇编语言···\n",
    "    - 编译程序：将高级语言源程序翻译成目标程序\n",
    "    - 解释程序：将高级语言源程序翻译成机器指令，它是边翻译边执行（如Java）"
   ]
  },
  {
   "cell_type": "markdown",
   "metadata": {},
   "source": [
    "- C++程序的开发过程\n",
    "    - 算法与数据结构设计\n",
    "    - 源程序编辑\n",
    "    - 编译（语法要正确才可以进行）\n",
    "    - 连接\n",
    "    - 测试（需要进行测试-软件工程会学到）\n",
    "    - 调试"
   ]
  },
  {
   "cell_type": "markdown",
   "metadata": {},
   "source": [
    "# 计算机中的信息与存储单位"
   ]
  },
  {
   "cell_type": "markdown",
   "metadata": {},
   "source": [
    "- 计算机的基本功能\n",
    "    - 算术运算\n",
    "    - 逻辑运算"
   ]
  },
  {
   "cell_type": "markdown",
   "metadata": {},
   "source": [
    "## 计算机中的信息"
   ]
  },
  {
   "cell_type": "markdown",
   "metadata": {},
   "source": [
    "- 计算机中的信息\n",
    "    - 控制信息\n",
    "    - 数据信息\n",
    "        - 数值信息：定点数、浮点数\n",
    "        - 非数值信息：字符数据、逻辑数据\n",
    "\n",
    "- 信息的存储单位\n",
    "    - 位\n",
    "    - 字节\n",
    "    - 千字节\n",
    "    - 兆字节\n",
    "    - 吉字节"
   ]
  },
  {
   "cell_type": "markdown",
   "metadata": {},
   "source": [
    "## 计算机的数字系统"
   ]
  },
  {
   "cell_type": "markdown",
   "metadata": {},
   "source": [
    "- 计算机的数字系统\n",
    "    - 二进制系统\n",
    "    - 基本符号：0，1\n",
    "    \n",
    "- 进制转换\n",
    "    - R进制 ➡️ 十进制：各位数字与它的权相乘，其积相加（权=R^b, 十位-b=1，百位-b=2）\n",
    "    - 十进制整数 ➡️ R进制整数：“`除`以R取`余`数”\n",
    "    - 十进制小数 ➡️ R进制小数：“`乘`以R取`整`数”"
   ]
  },
  {
   "cell_type": "markdown",
   "metadata": {},
   "source": [
    "## 二进制数的编码表示\n"
   ]
  },
  {
   "cell_type": "markdown",
   "metadata": {},
   "source": [
    "- 原码\n",
    "    - 正负数表示：0表示正号；1表示负号\n",
    "    - 缺点\n",
    "        - 零的表示不唯一\n",
    "        - 进行四则运算时负号位需单独处理"
   ]
  },
  {
   "cell_type": "markdown",
   "metadata": {},
   "source": [
    "- 补码：\n",
    "    - 0的表示唯一\n",
    "    - 符号位可作为数值参加运算\n",
    "    - 减法运算可转换为加法运算\n",
    "    - 补码运算的结果仍为补码\n",
    "    \n",
    "- 模数：\n",
    "    - n位而进制整数的模数位 2^n\n",
    "    - n位消暑的模数为 2\n",
    "- 补数：（计算机组成原理中会讲）\n",
    "    - 取模：除以`除数`取余数（时钟指针的`除数`为12)"
   ]
  },
  {
   "cell_type": "markdown",
   "metadata": {},
   "source": [
    "- 补码的计算规则：使用`反码`作为中间码\n",
    "    - **反码**计算规则：（反码本身无用途）\n",
    "        - ***负整数***：原码符号位不变（仍是1）；其余各位取反（0变1，1变2）\n",
    "        - 正整数：原码就是补码\n",
    "    - 补码：\n",
    "        - **`负数补码 = 反码 + 1`**\n",
    "        - **`正数补码 = 原码`**\n",
    "        "
   ]
  },
  {
   "cell_type": "markdown",
   "metadata": {},
   "source": [
    "* **实数的浮点表示**：计算机中通常采用附点方式表示`小数`\n",
    "\n",
    "- 字符在计算机中的表示：\n",
    "    - 字符在计算机中通过编码表示\n",
    "    - ASCII码：\n",
    "        - 常用的西文字符编码\n",
    "        - 7为二进制数表示一个字符\n",
    "        - 最多可表示`2^7 = 128`个字符\n",
    "    - 汉字编码：中国国家标准"
   ]
  },
  {
   "cell_type": "markdown",
   "metadata": {},
   "source": []
  }
 ],
 "metadata": {
  "kernelspec": {
   "display_name": "C++11",
   "language": "C++11",
   "name": "xcpp11"
  },
  "language_info": {
   "codemirror_mode": "text/x-c++src",
   "file_extension": ".cpp",
   "mimetype": "text/x-c++src",
   "name": "c++",
   "version": "11"
  },
  "toc-autonumbering": true,
  "toc-showmarkdowntxt": false,
  "toc-showtags": false
 },
 "nbformat": 4,
 "nbformat_minor": 4
}
