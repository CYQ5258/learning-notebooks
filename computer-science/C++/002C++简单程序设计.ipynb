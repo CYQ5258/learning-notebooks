{
 "cells": [
  {
   "cell_type": "markdown",
   "metadata": {},
   "source": [
    "# 导学"
   ]
  },
  {
   "cell_type": "markdown",
   "metadata": {},
   "source": [
    "- 要点：\n",
    "    - 计算机基本功能是数据处理\n",
    "    - 数据类型\n",
    "        - 整数\n",
    "        - 实数\n",
    "        - 字符\n",
    "        - 布尔\n",
    "    - 基本运算\n",
    "        - 算术运算\n",
    "        - 逻辑运算\n",
    "    - 输入数据、输出数据（执行结果）\n",
    "        - 调用预定义的功能模块\n",
    "    - 执行流程\n",
    "        - 选择、开关语句（对执行流程进行选择）\n",
    "        - 循环语句（反复用同一算法）\n",
    "            - 重复处理\n",
    "    - 想表示自然界中\n",
    "        - 程序中自定义类型\n",
    "            - 枚举类型\n",
    "            \n",
    "- 要求：\n",
    "    - 学习视频课件\n",
    "    - 阅读教材第二章\n",
    "    - 完成实验2\n",
    "    - 完成在线选择题和编程题\n",
    "    - 在编译环境中调试观察程序运行情况"
   ]
  },
  {
   "cell_type": "markdown",
   "metadata": {},
   "source": [
    "# C++语言概述"
   ]
  },
  {
   "cell_type": "markdown",
   "metadata": {},
   "source": [
    "# 基本数据类型、常量、变量"
   ]
  },
  {
   "cell_type": "markdown",
   "metadata": {},
   "source": [
    "# 运算与表达式"
   ]
  },
  {
   "cell_type": "markdown",
   "metadata": {},
   "source": [
    "# 实验二：简单程序设计"
   ]
  },
  {
   "cell_type": "markdown",
   "metadata": {},
   "source": []
  },
  {
   "cell_type": "markdown",
   "metadata": {},
   "source": []
  }
 ],
 "metadata": {
  "kernelspec": {
   "display_name": "C++11",
   "language": "C++11",
   "name": "xcpp11"
  },
  "language_info": {
   "codemirror_mode": "text/x-c++src",
   "file_extension": ".cpp",
   "mimetype": "text/x-c++src",
   "name": "c++",
   "version": "11"
  }
 },
 "nbformat": 4,
 "nbformat_minor": 4
}
