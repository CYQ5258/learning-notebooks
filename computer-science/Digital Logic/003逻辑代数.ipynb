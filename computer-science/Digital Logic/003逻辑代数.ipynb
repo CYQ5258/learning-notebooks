{
 "cells": [
  {
   "cell_type": "markdown",
   "metadata": {},
   "source": [
    "***数字电路分析与设计工具：逻辑代数***"
   ]
  },
  {
   "cell_type": "markdown",
   "metadata": {},
   "source": [
    "# 逻辑代数概念"
   ]
  },
  {
   "cell_type": "markdown",
   "metadata": {},
   "source": [
    "- 逻辑：事物之间的因果关系\n",
    "- 逻辑代数：逻辑运算的数学方法 - （布尔代数）\n",
    "    - 数字电路中的逻辑代数：二值逻辑，逻辑变量的取值只有0和1两种情况"
   ]
  },
  {
   "cell_type": "markdown",
   "metadata": {},
   "source": []
  },
  {
   "cell_type": "markdown",
   "metadata": {},
   "source": [
    "# 基本运算、公式、定理"
   ]
  },
  {
   "cell_type": "markdown",
   "metadata": {},
   "source": [
    "## 三种基本运算\n",
    "- 与（AND）：条件同时具备，结果发生\n",
    "- 或（OR）：条件之一具备，结果发生\n",
    "- 非（NOT）：条件不具备，结果发生"
   ]
  },
  {
   "cell_type": "markdown",
   "metadata": {},
   "source": [
    "## 常用的符合逻辑运算\n",
    "- 与非：`？？`\n",
    "- 或非：\n",
    "- 与或非：\n",
    "- 异或：\n",
    "- 同或："
   ]
  },
  {
   "cell_type": "markdown",
   "metadata": {},
   "source": [
    "## 基本公式、常用公式\n",
    "- 基本公式：\n",
    "    1. 0 A = 0\n",
    "    2. 1 A = A\n",
    "    3. A A = A    `重叠律`\n",
    "    4. A A′= 0    `互补律`\n",
    "    5. A B = B A    `交换律`\n",
    "    6. A (B C) = (A B) C    `结合律`\n",
    "    7. A (B +C) = A B + A C    `分配律`\n",
    "    8. (A B) ′ = A′ + B′    `反演律`\n",
    "    9. (A ′ ) ′ = A    `还原律`\n",
    "    10. 1′ = 0; 0′= 1\n",
    "    11. 1 + A= 1\n",
    "    12. 0 + A = A\n",
    "    13. A + A = A\n",
    "    14. A + A′ = 1\n",
    "    15. A +B = B + A\n",
    "    16. A + (B +C) = (A + B) + C\n",
    "    17. A + B C = (A +B)(A +C)\n",
    "    18. (A+ B) ′ = A′B′\n",
    "    \n",
    "- 常用公式：\n",
    "    - 1 A + A B = A\n",
    "    - 2 A ( A + B) = A\n",
    "    - 3 A B + A B′ = A\n",
    "    - 4 A +A′B = A + B\n",
    "    - 5 \n",
    "        - A B + A′ C + B C = A B + A′ C\n",
    "        - A B + A′ C + B CD = A B + A′ C\n",
    "    - 6 A (AB) ′ = A B′ ; A′ (AB) ′ = A′"
   ]
  },
  {
   "cell_type": "markdown",
   "metadata": {},
   "source": [
    "## 基本定理 `??`\n",
    "- 代入定理：在任何一个包含A的逻辑等式中，若以另外一个逻辑式代入式中A的位置，则等式依然成立。\n",
    "- 反演定理：对任一逻辑式 :\n",
    "- 对偶定理："
   ]
  },
  {
   "cell_type": "markdown",
   "metadata": {},
   "source": []
  },
  {
   "cell_type": "markdown",
   "metadata": {},
   "source": [
    "# 逻辑函数的表示、转换和化简"
   ]
  },
  {
   "cell_type": "markdown",
   "metadata": {},
   "source": [
    "## 逻辑函数及其表示方法\n",
    "- 逻辑函数：\n",
    "    - 若以逻辑变量为输入，运算结果为输出，则输入变量取值确定以后，输出的取值也随之而定。输入和输出之间是一种函数关系。\n",
    "        - Y=F(A,B,C,∙∙∙∙∙∙)\n",
    "    - 在二值逻辑中，输入/输出都只有两种取值0/1。\n",
    "    \n",
    "- 表示方法：\n",
    "    - 真值表\n",
    "    - 逻辑图：用逻辑图形符号表示逻辑运算关系，与电路的实现相对应。\n",
    "    - 逻辑式：将输入/输出之间的逻辑关系用与/或/非的运算式进行表示。\n",
    "    - 波形图：将输入变量所有取值组合与对应输出按时间顺序排列，画成波形。"
   ]
  },
  {
   "cell_type": "markdown",
   "metadata": {},
   "source": [
    "## 逻辑函数表示方法之间的转换\n",
    "- 波形图 ➡️ 真值表\n",
    "- 真值表 ➡️ 逻辑式\n",
    "    - 找出真值表中使 Y=1 的输入变量取值组合；\n",
    "    - 将每个取值组合写成一个与项，其中取值为1的写原变量，取值为0的写反变量；\n",
    "    - 将这些与项相或即得Y。\n",
    "- 逻辑式 ➡️ 真值表\n",
    "    - 把输入变量所有的取值组合逐个代入逻辑式中，求输出，列表。\n",
    "- 逻辑式 ➡️ 逻辑图\n",
    "    - 用图形符号代替逻辑式中的逻辑运算符。\n",
    "- 逻辑图 ➡️ 逻辑式\n",
    "    - 从输入到输出逐级写出每个图形符号对应的逻辑运算式。\n",
    "- 逻辑式 ➡️ 逻辑式\n",
    "    - 与或式：\n",
    "    - 与非-与非式：\n",
    "    - 或与式：\n",
    "    - 或非-或非式：\n",
    "    - 与或非式："
   ]
  },
  {
   "cell_type": "markdown",
   "metadata": {},
   "source": [
    "## 逻辑函数的公式化简法\n",
    "- 逻辑式的最简形式（以最简与或逻辑式为例）：\n",
    "    - 1）包含的与项已经最少；\n",
    "    - 2）每个与项的因子也已经最少。\n",
    "- 公式化简法：反复应用基本公式和常用公式，消去多余的与项和多余的因子。"
   ]
  },
  {
   "cell_type": "markdown",
   "metadata": {},
   "source": [
    "# 逻辑函数的项"
   ]
  },
  {
   "cell_type": "markdown",
   "metadata": {},
   "source": [
    "## 逻辑函数的最小项之和"
   ]
  },
  {
   "cell_type": "markdown",
   "metadata": {},
   "source": [
    "## 逻辑函数的最大项之积"
   ]
  },
  {
   "cell_type": "markdown",
   "metadata": {},
   "source": [
    "## 最小项和最大项的关系"
   ]
  },
  {
   "cell_type": "markdown",
   "metadata": {},
   "source": [
    "## 逻辑函数的卡诺图"
   ]
  },
  {
   "cell_type": "markdown",
   "metadata": {},
   "source": [
    "## 卡诺图化简法"
   ]
  },
  {
   "cell_type": "markdown",
   "metadata": {},
   "source": [
    "## 具有无关项的逻辑函数及其化简"
   ]
  },
  {
   "cell_type": "markdown",
   "metadata": {},
   "source": [
    "## 逻辑函数的机器化化简法"
   ]
  },
  {
   "cell_type": "code",
   "execution_count": null,
   "metadata": {},
   "outputs": [],
   "source": []
  }
 ],
 "metadata": {
  "kernelspec": {
   "display_name": "Python 3",
   "language": "python",
   "name": "python3"
  },
  "language_info": {
   "codemirror_mode": {
    "name": "ipython",
    "version": 3
   },
   "file_extension": ".py",
   "mimetype": "text/x-python",
   "name": "python",
   "nbconvert_exporter": "python",
   "pygments_lexer": "ipython3",
   "version": "3.7.4"
  }
 },
 "nbformat": 4,
 "nbformat_minor": 4
}
