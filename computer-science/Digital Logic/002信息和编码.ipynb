{
 "cells": [
  {
   "cell_type": "markdown",
   "metadata": {},
   "source": [
    "# 信息与编码"
   ]
  },
  {
   "cell_type": "markdown",
   "metadata": {},
   "source": [
    "* 编码的目的：Encoding describes the process of assigning representations to information\n",
    "* 二进制编码"
   ]
  },
  {
   "cell_type": "markdown",
   "metadata": {},
   "source": [
    "* 信息？\n",
    "    * 知识的传递，以及一些事实和环境的情况的具体描述\n",
    "    - 信息的核心意义是帮助你解决不确定性"
   ]
  },
  {
   "cell_type": "markdown",
   "metadata": {},
   "source": [
    "* Encoding-编码\n",
    "    * 对一个新鲜事物和一个待表达的事情进行表达\n",
    "    \n",
    "编码是我们进行信息表达和处理的开始"
   ]
  },
  {
   "cell_type": "markdown",
   "metadata": {},
   "source": [
    "# 数制：\n",
    "- 表示数量的规则\n",
    "    1. 每一位的构成\n",
    "    2. 从低位向高位的进位规则\n",
    "* 码制：表示事物的规则\n",
    "    "
   ]
  },
  {
   "cell_type": "markdown",
   "metadata": {},
   "source": []
  },
  {
   "cell_type": "markdown",
   "metadata": {},
   "source": [
    "## 二进制的补码"
   ]
  },
  {
   "cell_type": "markdown",
   "metadata": {},
   "source": [
    "* 算数运算：二进制数的0/1可以表示数量，进行加、减、乘、除···等运算\n",
    "* 二进制数的正、负号也是用0/1表示的\n",
    "    * 定点运算中，最高位为符号位（0为正，1为负）"
   ]
  },
  {
   "cell_type": "markdown",
   "metadata": {},
   "source": [
    "- 最⾼位为符号位（0为正，1为负）\n",
    "- 正数的补码和它的原码相同\n",
    "- 负数的补码 = 数值位逐位求反 + 1 \n",
    "    - +5 = （0 0101）\n",
    "    - -5 =  （1 1011）"
   ]
  },
  {
   "cell_type": "markdown",
   "metadata": {},
   "source": [
    "- 两个补码表示的二进制数相加时的符号位讨论\n",
    "    - 结论：将两个加数的符号位和来⾃最⾼位数字位的进位相加，结果就是和的符号 "
   ]
  },
  {
   "cell_type": "markdown",
   "metadata": {},
   "source": [
    "## 码制\n",
    "- 用不同数码表示不同事物时遵循的规则\n",
    "    - 例如：学号，身份证号，车牌号。。。\n",
    "- 目前，数字电路中都采用二进制\n",
    "- 表示数量时称二进制\n",
    "- 表示事物时称二值逻辑"
   ]
  },
  {
   "cell_type": "markdown",
   "metadata": {},
   "source": []
  },
  {
   "cell_type": "markdown",
   "metadata": {},
   "source": [
    "- 等长编码：···\n",
    "- 几种常用的十进制代码 ：8421码 余3码 2421码 5211码 余3循环码\n",
    "- 格雷码：\n",
    "    - 每⼀位的状态变化都按⼀定的顺序循环。\n",
    "    - 编码顺序依次变化，按表中顺序变化时，相邻代码只有⼀位改变状态。"
   ]
  },
  {
   "cell_type": "markdown",
   "metadata": {},
   "source": []
  },
  {
   "cell_type": "markdown",
   "metadata": {},
   "source": []
  },
  {
   "cell_type": "markdown",
   "metadata": {},
   "source": [
    "# 二进制的编码"
   ]
  },
  {
   "cell_type": "markdown",
   "metadata": {},
   "source": []
  },
  {
   "cell_type": "markdown",
   "metadata": {},
   "source": []
  },
  {
   "cell_type": "markdown",
   "metadata": {},
   "source": [
    "# 用电压表达信息"
   ]
  },
  {
   "cell_type": "markdown",
   "metadata": {},
   "source": [
    "- Representing information with voltage：\n",
    "    - Voltage pros:\n",
    "        - easy generation, detection\n",
    "        - lots of engineering knowledge\n",
    "        - potentially zero power in steady state\n",
    "    - Voltage cons:\n",
    "        - easily affected by environment\n",
    "        - DC connectivity required?\n",
    "        - R & C effects slow things down "
   ]
  },
  {
   "cell_type": "markdown",
   "metadata": {},
   "source": [
    "- Representation of a picture：··\n",
    "- Information Processing = Computation：···"
   ]
  },
  {
   "cell_type": "markdown",
   "metadata": {},
   "source": []
  },
  {
   "cell_type": "markdown",
   "metadata": {},
   "source": [
    "# 电压信号的离散化"
   ]
  },
  {
   "cell_type": "markdown",
   "metadata": {},
   "source": [
    " Why did our system fail?\n",
    "-  Why doesn’t reality match theory?\n",
    "    1. COPY Operator doesn’t work right\n",
    "    2. INVERSION Operator doesn’t work right 3. Theory is imperfect\n",
    "    4. Reality is imperfect\n",
    "    5. Our system architecture stinks\n",
    "- ANSWER: all of the above!\n",
    "    - Noise and inaccuracy are inevitable; we can’t reliably reproduce infinite information-- we must design our system to tolerate some amount of error if it is to process information reliably."
   ]
  },
  {
   "cell_type": "markdown",
   "metadata": {},
   "source": [
    "-  The Digital Abstraction\n",
    "    -  Keep in mind that the world is not digital, we would simply like to engineer it to behave that way. Furthermore, we must use real physical phenomena to implement digital designs!"
   ]
  },
  {
   "cell_type": "markdown",
   "metadata": {},
   "source": [
    "- Questions to ask ourselves:\n",
    "    - In digital systems, where does noise come from? \n",
    "    - How big an effect are we talking about?"
   ]
  },
  {
   "cell_type": "markdown",
   "metadata": {},
   "source": []
  },
  {
   "cell_type": "markdown",
   "metadata": {},
   "source": []
  },
  {
   "cell_type": "markdown",
   "metadata": {},
   "source": []
  },
  {
   "cell_type": "markdown",
   "metadata": {},
   "source": []
  },
  {
   "cell_type": "markdown",
   "metadata": {},
   "source": []
  },
  {
   "cell_type": "markdown",
   "metadata": {},
   "source": []
  },
  {
   "cell_type": "markdown",
   "metadata": {},
   "source": []
  },
  {
   "cell_type": "markdown",
   "metadata": {},
   "source": []
  },
  {
   "cell_type": "markdown",
   "metadata": {},
   "source": []
  },
  {
   "cell_type": "markdown",
   "metadata": {},
   "source": []
  },
  {
   "cell_type": "markdown",
   "metadata": {},
   "source": []
  },
  {
   "cell_type": "markdown",
   "metadata": {},
   "source": []
  }
 ],
 "metadata": {
  "kernelspec": {
   "display_name": "Python 3",
   "language": "python",
   "name": "python3"
  },
  "language_info": {
   "codemirror_mode": {
    "name": "ipython",
    "version": 3
   },
   "file_extension": ".py",
   "mimetype": "text/x-python",
   "name": "python",
   "nbconvert_exporter": "python",
   "pygments_lexer": "ipython3",
   "version": "3.7.4"
  }
 },
 "nbformat": 4,
 "nbformat_minor": 4
}
