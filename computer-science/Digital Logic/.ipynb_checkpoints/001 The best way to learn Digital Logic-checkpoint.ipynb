{
 "cells": [
  {
   "cell_type": "markdown",
   "metadata": {},
   "source": [
    "***The Best Way to Learn Digital Logic.***"
   ]
  },
  {
   "cell_type": "markdown",
   "metadata": {},
   "source": [
    "* 模拟电子技术 + 电路原理\n",
    "\n",
    "* 数字电子技术\n",
    "\n",
    "* 电子技术课程设计\n",
    "\n",
    "* 电子技术基础实验\n",
    "\n",
    "* 微型计算机原理"
   ]
  },
  {
   "cell_type": "markdown",
   "metadata": {},
   "source": [
    "# 预备知识"
   ]
  },
  {
   "cell_type": "markdown",
   "metadata": {},
   "source": [
    "* 模拟电子技术 + 电路原理"
   ]
  },
  {
   "cell_type": "markdown",
   "metadata": {},
   "source": [
    "# 课程目标"
   ]
  },
  {
   "cell_type": "markdown",
   "metadata": {},
   "source": [
    "* 掌握数字电子电路的基本分析和设计方法"
   ]
  },
  {
   "cell_type": "markdown",
   "metadata": {},
   "source": [
    "## 学习路径（从上至下）："
   ]
  },
  {
   "cell_type": "markdown",
   "metadata": {},
   "source": [
    "* 从一个晶体管出发\n",
    "* 如何用一个晶体管构成门电路\n",
    "* 在门电路的基础上去构成组合电路\n",
    "* 在组合电路的基础上实现时序电路\n",
    "* 进而搭建有限状态机（FSMs）\n",
    "* 最后配上相应的软件指令，构成最小的CPU系统"
   ]
  },
  {
   "cell_type": "markdown",
   "metadata": {},
   "source": [
    "## 课下实践"
   ]
  },
  {
   "cell_type": "markdown",
   "metadata": {},
   "source": [
    "* 面包板搭建**中小规模电路**：调试工具的使用（对我们学习的基本的分析和设计方法进行验证）\n",
    "* 可编程器件实现**大规模电路**：去体会EDA工具，硬件描述语言对我们的辅助性\n",
    "* PCB板实现**成熟电路**：EDA工具的使用，焊接调试能力"
   ]
  },
  {
   "cell_type": "markdown",
   "metadata": {},
   "source": [
    "# 基础知识"
   ]
  },
  {
   "cell_type": "markdown",
   "metadata": {},
   "source": [
    "## 数字量和模拟量"
   ]
  },
  {
   "cell_type": "markdown",
   "metadata": {},
   "source": [
    "> `数字量`：在时间上和数量上都是离散、不连续的\n",
    "\n",
    "> `模拟量`：数字量意外的物理量\n",
    "\n",
    "> `数字电路和模拟电路`：工作信号、研究的对象、分析/设计方法以及所用的数学工具都具有显著的不同"
   ]
  },
  {
   "cell_type": "markdown",
   "metadata": {},
   "source": [
    "## 电子技术"
   ]
  },
  {
   "cell_type": "markdown",
   "metadata": {},
   "source": [
    "* 是研究**电子器件**及**电子器件应用**的一门学科\n",
    "  * `电子器件`：通过控制器件中的**电子**运动而进行工作"
   ]
  },
  {
   "cell_type": "markdown",
   "metadata": {},
   "source": [
    "### 电子电路\n",
    "- 处理信息；能量转换\n",
    "* 模拟电路：用连续的模拟电压/流值来表示信息\n",
    "* 数字电路：用一个**离散的电压序列**来表示信息"
   ]
  },
  {
   "cell_type": "markdown",
   "metadata": {},
   "source": [
    "### 计算机典型系统\n",
    "- 构件：\n",
    "    * 电路板-Circuit Board\n",
    "    * 器件（芯片）-Integrated Circuit\n",
    "    * 模块-Module\n",
    "    * 电路单元-Cell\n",
    "    * 逻辑门电路-Gate\n",
    "    * 半导体晶体管-MOSFET"
   ]
  },
  {
   "cell_type": "markdown",
   "metadata": {},
   "source": [
    "* Structure-结构\n",
    "    * hierarchical design\n",
    "    * limited complexity at each level\n",
    "    * reusable building blocks\n",
    "    \n",
    "* Interfaces-接口\n",
    "    * Key elements of system engineering\n",
    "    * Isolate technologies, allow evolution\n",
    "    * Major abstraction mechanism\n",
    "    \n",
    "* What makes a good system design?\n",
    "    * minimal mechanism, maximal function\n",
    "    * reliable in a wide range of environments\n",
    "    * accommodates future technical improvements"
   ]
  }
 ],
 "metadata": {
  "kernelspec": {
   "display_name": "Python 3",
   "language": "python",
   "name": "python3"
  },
  "language_info": {
   "codemirror_mode": {
    "name": "ipython",
    "version": 3
   },
   "file_extension": ".py",
   "mimetype": "text/x-python",
   "name": "python",
   "nbconvert_exporter": "python",
   "pygments_lexer": "ipython3",
   "version": "3.7.4"
  }
 },
 "nbformat": 4,
 "nbformat_minor": 4
}
