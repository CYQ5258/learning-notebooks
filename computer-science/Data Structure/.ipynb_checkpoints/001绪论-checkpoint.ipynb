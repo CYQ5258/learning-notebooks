{
 "cells": [
  {
   "cell_type": "markdown",
   "metadata": {
    "toc-hr-collapsed": true
   },
   "source": [
    "# 计算"
   ]
  },
  {
   "cell_type": "markdown",
   "metadata": {},
   "source": [
    "- 对象：规律、技巧\n",
    "\n",
    "- 目标：高效、低耗"
   ]
  },
  {
   "cell_type": "markdown",
   "metadata": {},
   "source": [
    "计算机（computer）是研究手段，计算（computing）是最终的研究目的/目标。"
   ]
  },
  {
   "cell_type": "markdown",
   "metadata": {},
   "source": [
    "- 问题\n",
    "- 算法\n",
    "- ‘计算机’\n",
    "- 解决问题\n",
    "    - 能解决什么问题\n",
    "    - 不能解决什么问题\n",
    "- 子过程/子算法"
   ]
  },
  {
   "cell_type": "markdown",
   "metadata": {},
   "source": [
    "## **稍微做一个总结**"
   ]
  },
  {
   "cell_type": "markdown",
   "metadata": {},
   "source": [
    "- 计算 = 信息处理 = 借助某种工具，遵照一定规则，以明确而机械的形式进行\n",
    "- 计算模型 = 计算机 = 信息处理工具\n",
    "- 所谓算法，即特定计算模型下，旨在解决特定问题的指令序列\n",
    "    - 输入：\n",
    "    - 输出\n",
    "    - 正确性\n",
    "    - 可行性\n",
    "    - **有穷性**"
   ]
  },
  {
   "cell_type": "markdown",
   "metadata": {},
   "source": [
    "## **算法：有穷性**\n",
    "- 序列Hailstone（n）···\n",
    "\n",
    "- 事实：程序 ≠ 算法（注意：死循环 ～ 有穷性）\n",
    "- 算法：在正确性、确定性、可行性、有穷性确定后，如何设计和优化出一个好的算法？"
   ]
  },
  {
   "cell_type": "markdown",
   "metadata": {},
   "source": [
    "## **什么是好的算法**\n",
    "\n",
    "- 好算法：\n",
    "    - 正确\n",
    "    - 健壮\n",
    "    - **可读**：结构化 + 准确命名 + 注释 + ···\n",
    "    - **效率**：速度尽可能快；存储空间尽可能少"
   ]
  },
  {
   "cell_type": "markdown",
   "metadata": {},
   "source": []
  },
  {
   "cell_type": "markdown",
   "metadata": {},
   "source": [
    "# 计算模型"
   ]
  },
  {
   "cell_type": "markdown",
   "metadata": {},
   "source": [
    "## 统一尺度模型\n",
    "- **度量**：\n",
    "    - 引入理想、统一、分层次的尺度\n",
    "    - 运用该尺度，以测量DSA的性能"
   ]
  },
  {
   "cell_type": "markdown",
   "metadata": {},
   "source": [
    "To measure is to know.\n",
    "If you can not measure it, you can not improve it."
   ]
  },
  {
   "cell_type": "markdown",
   "metadata": {},
   "source": [
    "### 算法分析\n",
    "- 正确：\n",
    "    - 算法功能与问题要求一致？\n",
    "    - 数学证明？\n",
    "- 成本：运行时间 + 所需存储空间\n",
    "    - 如何度量？\n",
    "    - 如何比较？\n",
    "- 将计算成本描述为函数，如：Ta（P）= 算法a求解问题实例P的计算成本\n",
    "    - 实例太多\n",
    "    - 如何归纳简化、概括？\n",
    "    - 观察：问题实例的`规模`, 往往是决定计算成本的`最主要`因素\n",
    "        - 通常：规模接近，计算成本也接近；规模扩大，计算成本亦上升"
   ]
  },
  {
   "cell_type": "markdown",
   "metadata": {},
   "source": [
    "### 特定算法 + 不同实例\n",
    "- Ta(n) = 用算法a求解某一问题规模为n的实例，所需的计算成本。简记T(n)\n",
    "- 观察：统一问题等规模的不同实例，计算成本不尽相同；有些场合甚至有实质差别。。。\n",
    "    - \n",
    "- 定义T(n): \n",
    "    - 在规模同为n的所有实例中，只关注 `最坏（成本最高）` 者"
   ]
  },
  {
   "cell_type": "markdown",
   "metadata": {},
   "source": [
    "### 特定问题 + 不同算法\n",
    "- 同一问题通常有多种算法，如何评判其优劣？\n",
    "    - 不同算法，可能更适应于不同 `规模` 的输入\n",
    "    - 不同算法，可能更适应于不同 `类型` 的输入\n",
    "    - 同一算法， 可能由不同 `程序员` 、用不同程序 `语言` 、经不同 `编译器` 生成\n",
    "    - 同一算法，可能实现并运行于不同的 `体系结构` 、 `操作系统` 。。。\n",
    "- 为给出 `客观` 的评价，需要抽象出一个 `理想` 的平台或模型\n",
    "    - 不再依赖于上述种种具体的因素\n",
    "    - 从而直接而准确的描述、测量并评价算法"
   ]
  },
  {
   "cell_type": "markdown",
   "metadata": {},
   "source": [
    "## 图灵机模型"
   ]
  },
  {
   "cell_type": "markdown",
   "metadata": {},
   "source": [
    "### 构成部件\n",
    "- Tape\n",
    "- Head\n",
    "- Alphabet\n",
    "- State"
   ]
  },
  {
   "cell_type": "markdown",
   "metadata": {},
   "source": [
    "### 转换函数\n",
    "- Transition Function：\n",
    "- "
   ]
  },
  {
   "cell_type": "markdown",
   "metadata": {},
   "source": [
    "## RAM模型"
   ]
  },
  {
   "cell_type": "markdown",
   "metadata": {},
   "source": [
    "### Random Access Machine：组成 + 语言\n",
    "- 寄存器顺序编号，总数没有限制\n",
    "- 可通过编号直接访问任意寄存器\n",
    "- 每一基本操作仅需常数时间"
   ]
  },
  {
   "cell_type": "markdown",
   "metadata": {},
   "source": [
    "### Random Access Machine：效率\n",
    "- 与TM模型一样，RAM模型也是一般计算工具的简化与抽象\n",
    "- 在这些模型中：\n",
    "    - 算法的运行时间  算法需要执行的基本操作次数\n",
    "    - ···\n",
    "- 思考：在TM、RAM等模型中衡量算法效率，为何通常只需要考察运行时间？空间呢？\n"
   ]
  },
  {
   "cell_type": "markdown",
   "metadata": {},
   "source": [
    "# 渐进复杂度"
   ]
  },
  {
   "cell_type": "markdown",
   "metadata": {},
   "source": [
    "- 尺度上的刻度\n",
    "- 复杂度分析"
   ]
  },
  {
   "cell_type": "markdown",
   "metadata": {},
   "source": [
    "- 应该更多的看重长远（潜力）\n",
    "- 不要拘泥于细微的不足，而是看重主流"
   ]
  },
  {
   "cell_type": "markdown",
   "metadata": {},
   "source": [
    "## 大O记号"
   ]
  },
  {
   "cell_type": "markdown",
   "metadata": {},
   "source": [
    "### 渐进分析\n",
    "- 随着问题规模的增长，计算成本如何增长？\n",
    "- 这里更关心：问题规模足够大之后，计算成本的增长趋势\n",
    "- 当输入规模 n >> 2 后，算法需执行的基本操作次数？\n",
    "- 如欲更为精确地估计，还可考察需占用的存储单元数？"
   ]
  },
  {
   "cell_type": "markdown",
   "metadata": {},
   "source": [
    "### Big-O notation\n",
    "- Paul Bachmann， 1894: \n",
    "- 与T(n)相比，f(n)在形式上，更为简洁，但依然反映前者的增长趋势"
   ]
  },
  {
   "cell_type": "markdown",
   "metadata": {},
   "source": [
    "### 其他记号"
   ]
  },
  {
   "cell_type": "markdown",
   "metadata": {},
   "source": [
    "## 渐进复杂度：多项式"
   ]
  },
  {
   "cell_type": "markdown",
   "metadata": {},
   "source": [
    "### O(1): constant\n",
    "- 常数\n",
    "    - 从渐进的角度来看，再大的常数，也要小于递增的变数\n",
    "    - \n",
    "- 这类算法的效率最高\n",
    "- 什么样的代码段对应于常数执行时间\n",
    "    - 一定不含循环？\n",
    "    - 一定不含分支转向？\n",
    "    - 一定不能有（递归）调用？"
   ]
  },
  {
   "cell_type": "markdown",
   "metadata": {},
   "source": []
  },
  {
   "cell_type": "markdown",
   "metadata": {},
   "source": []
  },
  {
   "cell_type": "markdown",
   "metadata": {},
   "source": []
  },
  {
   "cell_type": "markdown",
   "metadata": {},
   "source": []
  },
  {
   "cell_type": "markdown",
   "metadata": {},
   "source": []
  },
  {
   "cell_type": "markdown",
   "metadata": {},
   "source": []
  },
  {
   "cell_type": "markdown",
   "metadata": {},
   "source": []
  },
  {
   "cell_type": "markdown",
   "metadata": {},
   "source": []
  },
  {
   "cell_type": "markdown",
   "metadata": {},
   "source": []
  },
  {
   "cell_type": "markdown",
   "metadata": {},
   "source": []
  },
  {
   "cell_type": "markdown",
   "metadata": {},
   "source": []
  },
  {
   "cell_type": "markdown",
   "metadata": {},
   "source": []
  }
 ],
 "metadata": {
  "kernelspec": {
   "display_name": "Python 3",
   "language": "python",
   "name": "python3"
  },
  "language_info": {
   "codemirror_mode": {
    "name": "ipython",
    "version": 3
   },
   "file_extension": ".py",
   "mimetype": "text/x-python",
   "name": "python",
   "nbconvert_exporter": "python",
   "pygments_lexer": "ipython3",
   "version": "3.7.4"
  }
 },
 "nbformat": 4,
 "nbformat_minor": 4
}
