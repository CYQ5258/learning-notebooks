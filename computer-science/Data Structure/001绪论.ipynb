{
 "cells": [
  {
   "cell_type": "markdown",
   "metadata": {
    "toc-hr-collapsed": true
   },
   "source": [
    "# 计算"
   ]
  },
  {
   "cell_type": "markdown",
   "metadata": {},
   "source": [
    "- 对象：规律、技巧\n",
    "\n",
    "- 目标：高效、低耗"
   ]
  },
  {
   "cell_type": "markdown",
   "metadata": {},
   "source": [
    "计算机（computer）是研究手段，计算（computing）是最终的研究目的/目标。"
   ]
  },
  {
   "cell_type": "markdown",
   "metadata": {},
   "source": [
    "- 问题\n",
    "- 算法\n",
    "- ‘计算机’\n",
    "- 解决问题\n",
    "    - 能解决什么问题\n",
    "    - 不能解决什么问题\n",
    "- 子过程/子算法"
   ]
  },
  {
   "cell_type": "markdown",
   "metadata": {},
   "source": [
    "### **稍微做一个总结**"
   ]
  },
  {
   "cell_type": "markdown",
   "metadata": {},
   "source": [
    "- 计算 = 信息处理 = 借助某种工具，遵照一定规则，以明确而机械的形式进行\n",
    "- 计算模型 = 计算机 = 信息处理工具\n",
    "- 所谓算法，即特定计算模型下，旨在解决特定问题的指令序列\n",
    "    - 输入：\n",
    "    - 输出\n",
    "    - 正确性\n",
    "    - 可行性\n",
    "    - **有穷性**"
   ]
  },
  {
   "cell_type": "markdown",
   "metadata": {},
   "source": [
    "### **算法：有穷性**\n",
    "- 序列Hailstone（n）···\n",
    "\n",
    "- 事实：程序 ≠ 算法（注意：死循环 ～ 有穷性）\n",
    "- 算法：在正确性、确定性、可行性、有穷性确定后，如何设计和优化出一个好的算法？"
   ]
  },
  {
   "cell_type": "markdown",
   "metadata": {},
   "source": [
    "### **什么是好的算法**\n",
    "\n",
    "- 好算法：\n",
    "    - 正确\n",
    "    - 健壮\n",
    "    - **可读**：结构化 + 准确命名 + 注释 + ···\n",
    "    - **效率**：速度尽可能快；存储空间尽可能少"
   ]
  },
  {
   "cell_type": "markdown",
   "metadata": {},
   "source": []
  },
  {
   "cell_type": "markdown",
   "metadata": {},
   "source": [
    "# 计算模型"
   ]
  },
  {
   "cell_type": "markdown",
   "metadata": {},
   "source": [
    "- **度量**：\n",
    "    - 引入理想、统一、分层次的尺度\n",
    "    - 运用该尺度，以测量DSA的性能"
   ]
  },
  {
   "cell_type": "markdown",
   "metadata": {},
   "source": [
    "To measure is to know.\n",
    "If you can not measure it, you can not improve it."
   ]
  },
  {
   "cell_type": "markdown",
   "metadata": {},
   "source": [
    "# 大O记号"
   ]
  },
  {
   "cell_type": "markdown",
   "metadata": {},
   "source": [
    "- 尺度上的刻度\n",
    "- 复杂度分析"
   ]
  },
  {
   "cell_type": "markdown",
   "metadata": {},
   "source": [
    "- 应该更多的看重长远（潜力）\n",
    "- 不要拘泥于细微的不足，而是看重主流"
   ]
  },
  {
   "cell_type": "markdown",
   "metadata": {},
   "source": []
  },
  {
   "cell_type": "markdown",
   "metadata": {},
   "source": []
  },
  {
   "cell_type": "markdown",
   "metadata": {},
   "source": []
  },
  {
   "cell_type": "markdown",
   "metadata": {},
   "source": []
  }
 ],
 "metadata": {
  "kernelspec": {
   "display_name": "Python 3",
   "language": "python",
   "name": "python3"
  },
  "language_info": {
   "codemirror_mode": {
    "name": "ipython",
    "version": 3
   },
   "file_extension": ".py",
   "mimetype": "text/x-python",
   "name": "python",
   "nbconvert_exporter": "python",
   "pygments_lexer": "ipython3",
   "version": "3.7.4"
  }
 },
 "nbformat": 4,
 "nbformat_minor": 4
}
