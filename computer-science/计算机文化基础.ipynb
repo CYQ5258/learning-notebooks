{
 "cells": [
  {
   "cell_type": "markdown",
   "metadata": {},
   "source": [
    "# 说在前面的话\n",
    "\n",
    "- 摩尔定律\n",
    "    - 反摩尔定律\n",
    "\n",
    "- 三个层次的能力\n",
    "    - 技术鉴别能力\n",
    "        - 能够结合自己的学科专业理解某种信息技术的特点\n",
    "    - 技术应用能力\n",
    "        - 能够了解\n",
    "    - 创新应用能力\n",
    "        - 能够将信息技术应用饿到洗的地方，或者"
   ]
  },
  {
   "cell_type": "markdown",
   "metadata": {},
   "source": [
    "## 图像处理入门：Photoshop\n",
    "- 操作前准备：\n",
    "    - \n",
    "    \n",
    "- 素材整体布局\n",
    "\n",
    "- 制作收割后裸露土地\n",
    "\n",
    "- 人物主体扣像\n",
    "\n",
    "- 图像合成与下步骤"
   ]
  },
  {
   "cell_type": "markdown",
   "metadata": {},
   "source": [
    "# 揭开计算机的神秘面纱"
   ]
  },
  {
   "cell_type": "markdown",
   "metadata": {},
   "source": [
    "## 电子数字计算机\n",
    "- 从数字表示的角度认识\n",
    "    - \n",
    "\n",
    "- 从数字计算实现的角度认识\n",
    "\n",
    "- 从技术进入的角度认识\n",
    "    - 复制能力"
   ]
  },
  {
   "cell_type": "markdown",
   "metadata": {},
   "source": [
    "## 二进制与十进制有什么区别？\n",
    "- 二进制的优势\n",
    "    - 易于物理实现\n",
    "    - 运算简单\n",
    "    - 机器可靠性高\n",
    "    - 通用型强（逻辑运算）\n",
    "- 进制转换"
   ]
  },
  {
   "cell_type": "markdown",
   "metadata": {},
   "source": []
  },
  {
   "cell_type": "markdown",
   "metadata": {},
   "source": [
    "# 数字世界中形形色色的“数”"
   ]
  },
  {
   "cell_type": "markdown",
   "metadata": {},
   "source": [
    "# 最熟悉的陌生人APP"
   ]
  },
  {
   "cell_type": "markdown",
   "metadata": {},
   "source": [
    "# 数据如何安好"
   ]
  },
  {
   "cell_type": "markdown",
   "metadata": {},
   "source": [
    "# 演示文稿制作"
   ]
  },
  {
   "cell_type": "markdown",
   "metadata": {},
   "source": [
    "# 从单机到联网"
   ]
  },
  {
   "cell_type": "markdown",
   "metadata": {},
   "source": [
    "# +互联网"
   ]
  },
  {
   "cell_type": "markdown",
   "metadata": {},
   "source": [
    "# 从推行那个传感器看世界的物联"
   ]
  },
  {
   "cell_type": "markdown",
   "metadata": {},
   "source": [
    "# 从信息为王到选择为王"
   ]
  },
  {
   "cell_type": "markdown",
   "metadata": {},
   "source": [
    "# 信息完全知多少"
   ]
  },
  {
   "cell_type": "markdown",
   "metadata": {},
   "source": [
    "# 说在后面的话"
   ]
  },
  {
   "cell_type": "markdown",
   "metadata": {},
   "source": []
  },
  {
   "cell_type": "markdown",
   "metadata": {},
   "source": []
  }
 ],
 "metadata": {
  "kernelspec": {
   "display_name": "C++11",
   "language": "C++11",
   "name": "xcpp11"
  },
  "language_info": {
   "codemirror_mode": "text/x-c++src",
   "file_extension": ".cpp",
   "mimetype": "text/x-c++src",
   "name": "c++",
   "version": "11"
  }
 },
 "nbformat": 4,
 "nbformat_minor": 4
}
