{
 "cells": [
  {
   "cell_type": "markdown",
   "metadata": {},
   "source": [
    "# 谁做的好事"
   ]
  },
  {
   "cell_type": "markdown",
   "metadata": {},
   "source": [
    "## 语义表示"
   ]
  },
  {
   "cell_type": "markdown",
   "metadata": {},
   "source": [
    "- 定义变量：做好事的人\n",
    "\n",
    "`char good_man;    // 定义变量`\n",
    "\n",
    "`goodman = 'A';    // “做好事的人”是A`\n",
    "\n",
    "`goodman = 'B';    // “做好事的人”是B`\n",
    "\n",
    "`goodman = 'C';    // “做好事的人”是C`\n",
    "\n",
    "`goodman = 'D';    // “做好事的人”是D`\n"
   ]
  },
  {
   "cell_type": "markdown",
   "metadata": {},
   "source": [
    "- 表达出四个人所说的话\n",
    "\n",
    "`good_man != 'A';`\n",
    "\n",
    "`good_man == 'C';`\n",
    "\n",
    "`good_man == 'D';`\n",
    "\n",
    "`good_man != 'D';`"
   ]
  },
  {
   "cell_type": "markdown",
   "metadata": {},
   "source": [
    "- 关系运算符：\n",
    "    - `！=`\n",
    "    - `==`\n",
    "    \n",
    "- 布尔类型取值：`True` / `False`"
   ]
  },
  {
   "cell_type": "markdown",
   "metadata": {},
   "source": [
    "## 真假检查"
   ]
  },
  {
   "cell_type": "markdown",
   "metadata": {},
   "source": [
    "`if (expression)`\n",
    "\n",
    "    `statements1(分号结束或者是大括号包围)`\n",
    "\n",
    "`else`\n",
    " \n",
    "    `statements1`\n",
    "![](images/if-statement.png)"
   ]
  },
  {
   "cell_type": "code",
   "execution_count": null,
   "metadata": {},
   "outputs": [],
   "source": [
    "int count = 0;    // 计数器：计算说真话的人数\n",
    "\n",
    "if (good_man != 'A')    // A说了真话\n",
    "    count++;\n",
    "if (good_man == 'B')    // B说了真话\n",
    "    cout++;\n",
    "if (good_man == 'D')    // C说了真话\n",
    "    cout++;\n",
    "if (good_man != 'D')    // D说了真话\n",
    "    count++;\n",
    "if (count == 3)\n",
    "    count << good_man << endl;"
   ]
  },
  {
   "cell_type": "markdown",
   "metadata": {},
   "source": [
    "- 开始进行实际的假设/解决问题\n",
    "![](images/004-01.png)"
   ]
  },
  {
   "cell_type": "markdown",
   "metadata": {},
   "source": [
    "- **代码运行**"
   ]
  },
  {
   "cell_type": "code",
   "execution_count": 1,
   "metadata": {},
   "outputs": [
    {
     "name": "stdout",
     "output_type": "stream",
     "text": [
      "B\n"
     ]
    }
   ],
   "source": [
    "#include <iostream>\n",
    "using namespace std;\n",
    "\n",
    "char good_man;\n",
    "good_man = 'A';\n",
    "int count = 0;\n",
    "\n",
    "if (good_man != 'A')    // A说了真话\n",
    "    count++;\n",
    "if (good_man == 'B')    // B说了真话\n",
    "    count++;\n",
    "if (good_man == 'D')    // C说了真话\n",
    "    count++;\n",
    "if (good_man != 'D')    // D说了真话\n",
    "    count++;\n",
    "if (count == 3)\n",
    "    cout << good_man << endl;\n",
    "else\n",
    "{\n",
    "    good_man = 'B';\n",
    "    int count = 0;\n",
    "\n",
    "    if (good_man != 'A')    // A说了真话\n",
    "        count++;\n",
    "    if (good_man == 'B')    // B说了真话\n",
    "        count++;\n",
    "    if (good_man == 'D')    // C说了真话\n",
    "        count++;\n",
    "    if (good_man != 'D')    // D说了真话\n",
    "        count++;\n",
    "    if (count == 3)\n",
    "        cout << good_man << endl;\n",
    "    else\n",
    "    {\n",
    "        good_man = 'C';\n",
    "        int count = 0;\n",
    "\n",
    "        if (good_man != 'A')    // A说了真话\n",
    "            count++;\n",
    "        if (good_man == 'B')    // B说了真话\n",
    "            count++;\n",
    "        if (good_man == 'D')    // C说了真话\n",
    "            count++;\n",
    "        if (good_man != 'D')    // D说了真话\n",
    "            count++;\n",
    "        if (count == 3)\n",
    "            cout << good_man << endl;\n",
    "        else\n",
    "        {\n",
    "            good_man = 'D';\n",
    "            int count = 0;\n",
    "\n",
    "            if (good_man != 'A')    // A说了真话\n",
    "                count++;\n",
    "            if (good_man == 'B')    // B说了真话\n",
    "                count++;\n",
    "            if (good_man == 'D')    // C说了真话\n",
    "                count++;\n",
    "            if (good_man != 'D')    // D说了真话\n",
    "                count++;\n",
    "            if (count == 3)\n",
    "                cout << good_man << endl;\n",
    "    }\n",
    "    }\n",
    "}"
   ]
  },
  {
   "cell_type": "code",
   "execution_count": 1,
   "metadata": {},
   "outputs": [
    {
     "name": "stdout",
     "output_type": "stream",
     "text": [
      "B\n"
     ]
    }
   ],
   "source": [
    "#include <iostream>\n",
    "using namespace std;\n",
    "\n",
    "char good_man;\n",
    "good_man = 'B';\n",
    "int count = 0;\n",
    "\n",
    "if (good_man != 'A')    // A说了真话\n",
    "    count++;\n",
    "if (good_man == 'B')    // B说了真话\n",
    "    count++;\n",
    "if (good_man == 'D')    // C说了真话\n",
    "    count++;\n",
    "if (good_man != 'D')    // D说了真话\n",
    "    count++;\n",
    "if (count == 3)\n",
    "    cout << good_man << endl;\n",
    "else\n",
    "    cout << \"He is\\'nt B\" << endl;"
   ]
  },
  {
   "cell_type": "markdown",
   "metadata": {},
   "source": [
    "## 循环枚举"
   ]
  },
  {
   "cell_type": "markdown",
   "metadata": {},
   "source": [
    "- 循环语句：`for`\n",
    "\n",
    "- ![](images/004-02.png)\n",
    "- ![](images/004-03.png)"
   ]
  },
  {
   "cell_type": "markdown",
   "metadata": {},
   "source": [
    "- `break`: 跳出循环\n",
    "\n",
    "![](images/004-04.png)"
   ]
  },
  {
   "cell_type": "code",
   "execution_count": 1,
   "metadata": {},
   "outputs": [
    {
     "name": "stdout",
     "output_type": "stream",
     "text": [
      "B\n"
     ]
    }
   ],
   "source": [
    "#include <iostream>\n",
    "using namespace std;\n",
    "\n",
    "char good_man;\n",
    "\n",
    "for (good_man = 'A'; good_man <= 'D'; good_man++)\n",
    "{\n",
    "    int count = 0;\n",
    "\n",
    "    if (good_man != 'A')    // A说了真话\n",
    "        count++;\n",
    "    if (good_man == 'B')    // B说了真话\n",
    "        count++;\n",
    "    if (good_man == 'D')    // C说了真话\n",
    "        count++;\n",
    "    if (good_man != 'D')    // D说了真话\n",
    "        count++;\n",
    "    if (count == 3)\n",
    "    {\n",
    "        cout << good_man << endl;\n",
    "        break;\n",
    "    }\n",
    "}"
   ]
  },
  {
   "cell_type": "markdown",
   "metadata": {},
   "source": [
    "- 枚举很重要\n",
    "- 枚举往往通过循环实现\n",
    "- 合理巧妙设计 `表达式1、2、3` \n",
    "- 依次不遗漏的枚举所有可能答案"
   ]
  },
  {
   "cell_type": "markdown",
   "metadata": {},
   "source": [
    "# 谁是嫌疑犯"
   ]
  },
  {
   "cell_type": "markdown",
   "metadata": {},
   "source": [
    "- 把事物进行有序的编号，然后利用编号进行计算\n",
    "\n",
    "- 嵌套循环 / 多重循环\n",
    "- 逻辑运算符\n",
    "    - 与：`&&`\n",
    "    - 或：`||`\n",
    "    - 非：`!`"
   ]
  },
  {
   "cell_type": "markdown",
   "metadata": {},
   "source": [
    "## 多重循环枚举"
   ]
  },
  {
   "cell_type": "markdown",
   "metadata": {},
   "source": []
  },
  {
   "cell_type": "markdown",
   "metadata": {},
   "source": []
  },
  {
   "cell_type": "markdown",
   "metadata": {},
   "source": [
    "## 破案线索表示"
   ]
  },
  {
   "cell_type": "markdown",
   "metadata": {},
   "source": [
    "- ![](images/004-05.png)\n",
    "\n",
    "- ![](images/004-06.png)\n",
    "\n",
    "- ![](images/004-07.png)"
   ]
  },
  {
   "cell_type": "markdown",
   "metadata": {},
   "source": []
  },
  {
   "cell_type": "markdown",
   "metadata": {},
   "source": [
    "## 用二进制枚举"
   ]
  },
  {
   "cell_type": "markdown",
   "metadata": {},
   "source": [
    "- 位运算：二进制表示下进行的操作"
   ]
  },
  {
   "cell_type": "markdown",
   "metadata": {},
   "source": [
    "- ![](images/004-08.png)\n",
    "\n",
    "- ![](images/004-09.png)"
   ]
  },
  {
   "cell_type": "markdown",
   "metadata": {},
   "source": [
    "# 程设论道"
   ]
  },
  {
   "cell_type": "markdown",
   "metadata": {},
   "source": [
    "## 算法：\n",
    "- 有明确的含义的指令\n",
    "- 在明确指令下，必须是可实现的（有限步骤）\n",
    "\n",
    "- 不同算法可以试着进行组合"
   ]
  },
  {
   "cell_type": "markdown",
   "metadata": {},
   "source": [
    "## 程序流程\n",
    "- 顺序\n",
    "- 条件分支（较为简单）\n",
    "- 循环（更难一点）\n",
    "    - 把握规律\n",
    "    - 如何重复：变与不变"
   ]
  },
  {
   "cell_type": "markdown",
   "metadata": {},
   "source": [
    "## 枚举\n",
    "- 是计算机智能的具体体现\n",
    "- 行之有效的方法、策略\n",
    "    - 画出个范围（所有可能的集合）\n",
    "    - 分支循环，一个个去看，有序的关系（顺序）\n",
    "        - 有序的已经解决\n",
    "        - 无序的就自己赋予：编号；放到一个有序的格子；\n",
    "    - 可计算，有手段通过编号能够找到相应的对象"
   ]
  },
  {
   "cell_type": "markdown",
   "metadata": {},
   "source": [
    "# 师生问答\n",
    "\n",
    "- 字符与ASCII码表\n",
    "    - \n",
    "\n",
    "- 其他循环语句\n",
    "    - `while`语句\n",
    "    - `do while`语句\n",
    "    \n",
    "- 运算符优先级\n",
    "    - 不用去全部记住\n",
    "    - 使用 `圆括号` 来明确\n",
    "    - 当阅读他人的代码时，不懂的优先级临时查询就行\n",
    "    \n",
    "- 变量作用域\n",
    "    - 作用域不是越大越好，防止变量名冲突（作用域污染）"
   ]
  },
  {
   "cell_type": "markdown",
   "metadata": {},
   "source": [
    "# 练习题目"
   ]
  },
  {
   "cell_type": "code",
   "execution_count": 1,
   "metadata": {},
   "outputs": [
    {
     "name": "stderr",
     "output_type": "stream",
     "text": [
      "\u001b[1minput_line_8:5:18: \u001b[0m\u001b[0;1;31merror: \u001b[0m\u001b[1mreference to overloaded function could not be resolved; did you mean to call it?\u001b[0m\n",
      "cout << i & 1 << endl;\n",
      "\u001b[0;1;32m                 ^~~~\n",
      "\u001b[0m\u001b[1m/Library/anaconda3/envs/cling-test/include/c++/v1/ostream:1004:1: \u001b[0m\u001b[0;1;30mnote: \u001b[0mpossible target for call\u001b[0m\n",
      "endl(basic_ostream<_CharT, _Traits>& __os)\n",
      "\u001b[0;1;32m^\n",
      "\u001b[0m"
     ]
    },
    {
     "ename": "Interpreter Error",
     "evalue": "",
     "output_type": "error",
     "traceback": [
      "Interpreter Error: "
     ]
    }
   ],
   "source": [
    "#include <iostream>\n",
    "using namespace std;\n",
    "\n",
    "cout << 'a' + 'A' << endl;\n",
    "\n",
    "int i = 45;\n",
    "cout << i & 1 << endl;"
   ]
  },
  {
   "cell_type": "code",
   "execution_count": 2,
   "metadata": {},
   "outputs": [
    {
     "name": "stdout",
     "output_type": "stream",
     "text": [
      "a\n",
      "A\n"
     ]
    }
   ],
   "source": [
    "cout << 'a' << endl;\n",
    "cout << 'A' << endl;"
   ]
  },
  {
   "cell_type": "code",
   "execution_count": 4,
   "metadata": {},
   "outputs": [
    {
     "name": "stdout",
     "output_type": "stream",
     "text": [
      "97\n",
      "65\n"
     ]
    }
   ],
   "source": [
    "cout << int('a') << endl;\n",
    "cout << int('A') << endl;"
   ]
  },
  {
   "cell_type": "code",
   "execution_count": 11,
   "metadata": {},
   "outputs": [
    {
     "name": "stderr",
     "output_type": "stream",
     "text": [
      "\u001b[1minput_line_21:5:18: \u001b[0m\u001b[0;1;31merror: \u001b[0m\u001b[1mreference to overloaded function could not be resolved; did you mean to call it?\u001b[0m\n",
      "cout << i & 1 << endl;\n",
      "\u001b[0;1;32m                 ^~~~\n",
      "\u001b[0m\u001b[1m/Library/anaconda3/envs/cling-test/include/c++/v1/ostream:1004:1: \u001b[0m\u001b[0;1;30mnote: \u001b[0mpossible target for call\u001b[0m\n",
      "endl(basic_ostream<_CharT, _Traits>& __os)\n",
      "\u001b[0;1;32m^\n",
      "\u001b[0m\u001b[1minput_line_21:3:5: \u001b[0m\u001b[0;1;31merror: \u001b[0m\u001b[1mredefinition of 'i'\u001b[0m\n",
      "int i = 43;\n",
      "\u001b[0;1;32m    ^\n",
      "\u001b[0m\u001b[1minput_line_19:3:5: \u001b[0m\u001b[0;1;30mnote: \u001b[0mprevious definition is here\u001b[0m\n",
      "int i = 43;\n",
      "\u001b[0;1;32m    ^\n",
      "\u001b[0m"
     ]
    },
    {
     "ename": "Interpreter Error",
     "evalue": "",
     "output_type": "error",
     "traceback": [
      "Interpreter Error: "
     ]
    }
   ],
   "source": [
    "cout << 4%3 << endl;\n",
    "int i = 43;\n",
    "\n",
    "cout << ( i << 2 ) << endl;\n",
    "\n"
   ]
  },
  {
   "cell_type": "code",
   "execution_count": 12,
   "metadata": {},
   "outputs": [
    {
     "name": "stderr",
     "output_type": "stream",
     "text": [
      "\u001b[1minput_line_22:2:19: \u001b[0m\u001b[0;1;31merror: \u001b[0m\u001b[1mreference to overloaded function could not be resolved; did you mean to call it?\u001b[0m\n",
      " cout << i & 1 << endl;\n",
      "\u001b[0;1;32m                  ^~~~\n",
      "\u001b[0m\u001b[1m/Library/anaconda3/envs/cling-test/include/c++/v1/ostream:1004:1: \u001b[0m\u001b[0;1;30mnote: \u001b[0mpossible target for call\u001b[0m\n",
      "endl(basic_ostream<_CharT, _Traits>& __os)\n",
      "\u001b[0;1;32m^\n",
      "\u001b[0m"
     ]
    },
    {
     "ename": "Interpreter Error",
     "evalue": "",
     "output_type": "error",
     "traceback": [
      "Interpreter Error: "
     ]
    }
   ],
   "source": [
    "cout << i & 1 << endl;"
   ]
  },
  {
   "cell_type": "code",
   "execution_count": null,
   "metadata": {},
   "outputs": [],
   "source": []
  }
 ],
 "metadata": {
  "kernelspec": {
   "display_name": "C++11",
   "language": "C++11",
   "name": "xcpp11"
  },
  "language_info": {
   "codemirror_mode": "text/x-c++src",
   "file_extension": ".cpp",
   "mimetype": "text/x-c++src",
   "name": "c++",
   "version": "11"
  }
 },
 "nbformat": 4,
 "nbformat_minor": 4
}
