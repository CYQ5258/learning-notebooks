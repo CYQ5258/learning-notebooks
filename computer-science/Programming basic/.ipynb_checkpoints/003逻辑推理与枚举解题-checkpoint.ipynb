{
 "cells": [
  {
   "cell_type": "markdown",
   "metadata": {},
   "source": [
    "# 谁做的好事"
   ]
  },
  {
   "cell_type": "markdown",
   "metadata": {},
   "source": [
    "## 语义表示"
   ]
  },
  {
   "cell_type": "markdown",
   "metadata": {},
   "source": [
    "- 定义变量：做好事的人\n",
    "\n",
    "`char good_man;    // 定义变量`\n",
    "\n",
    "`goodman = 'A';    // “做好事的人”是A`\n",
    "\n",
    "`goodman = 'B';    // “做好事的人”是B`\n",
    "\n",
    "`goodman = 'C';    // “做好事的人”是C`\n",
    "\n",
    "`goodman = 'D';    // “做好事的人”是D`\n"
   ]
  },
  {
   "cell_type": "markdown",
   "metadata": {},
   "source": [
    "- 表达出四个人所说的话\n",
    "\n",
    "`good_man != 'A';`\n",
    "\n",
    "`good_man == 'C';`\n",
    "\n",
    "`good_man == 'D';`\n",
    "\n",
    "`good_man != 'D';`"
   ]
  },
  {
   "cell_type": "markdown",
   "metadata": {},
   "source": [
    "- 关系运算符：\n",
    "    - `！=`\n",
    "    - `==`\n",
    "    \n",
    "- 布尔类型取值：`True` / `False`"
   ]
  },
  {
   "cell_type": "markdown",
   "metadata": {},
   "source": [
    "## 真假检查"
   ]
  },
  {
   "cell_type": "markdown",
   "metadata": {},
   "source": [
    "`if (expression)`\n",
    "\n",
    "    `statements1(分号结束或者是大括号包围)`\n",
    "\n",
    "`else`\n",
    " \n",
    "    `statements1`\n",
    "![](images/if-statement.png)"
   ]
  },
  {
   "cell_type": "code",
   "execution_count": null,
   "metadata": {},
   "outputs": [],
   "source": [
    "int count = 0;    // 计数器：计算说真话的人数\n",
    "\n",
    "if (good_man != 'A')    // A说了真话\n",
    "    count++;\n",
    "if (good_man == 'B')    // B说了真话\n",
    "    cout++;\n",
    "if (good_man == 'D')    // C说了真话\n",
    "    cout++;\n",
    "if (good_man != 'D')    // D说了真话\n",
    "    count++;\n",
    "if (count == 3)\n",
    "    count << good_man << endl;"
   ]
  },
  {
   "cell_type": "markdown",
   "metadata": {},
   "source": [
    "- 开始进行实际的假设/解决问题\n",
    "![](images/004-01.png)"
   ]
  },
  {
   "cell_type": "markdown",
   "metadata": {},
   "source": [
    "- **代码运行**"
   ]
  },
  {
   "cell_type": "code",
   "execution_count": 1,
   "metadata": {},
   "outputs": [
    {
     "name": "stdout",
     "output_type": "stream",
     "text": [
      "B\n"
     ]
    }
   ],
   "source": [
    "#include <iostream>\n",
    "using namespace std;\n",
    "\n",
    "char good_man;\n",
    "good_man = 'A';\n",
    "int count = 0;\n",
    "\n",
    "if (good_man != 'A')    // A说了真话\n",
    "    count++;\n",
    "if (good_man == 'B')    // B说了真话\n",
    "    count++;\n",
    "if (good_man == 'D')    // C说了真话\n",
    "    count++;\n",
    "if (good_man != 'D')    // D说了真话\n",
    "    count++;\n",
    "if (count == 3)\n",
    "    cout << good_man << endl;\n",
    "else\n",
    "{\n",
    "    good_man = 'B';\n",
    "    int count = 0;\n",
    "\n",
    "    if (good_man != 'A')    // A说了真话\n",
    "        count++;\n",
    "    if (good_man == 'B')    // B说了真话\n",
    "        count++;\n",
    "    if (good_man == 'D')    // C说了真话\n",
    "        count++;\n",
    "    if (good_man != 'D')    // D说了真话\n",
    "        count++;\n",
    "    if (count == 3)\n",
    "        cout << good_man << endl;\n",
    "    else\n",
    "    {\n",
    "        good_man = 'C';\n",
    "        int count = 0;\n",
    "\n",
    "        if (good_man != 'A')    // A说了真话\n",
    "            count++;\n",
    "        if (good_man == 'B')    // B说了真话\n",
    "            count++;\n",
    "        if (good_man == 'D')    // C说了真话\n",
    "            count++;\n",
    "        if (good_man != 'D')    // D说了真话\n",
    "            count++;\n",
    "        if (count == 3)\n",
    "            cout << good_man << endl;\n",
    "        else\n",
    "        {\n",
    "            good_man = 'D';\n",
    "            int count = 0;\n",
    "\n",
    "            if (good_man != 'A')    // A说了真话\n",
    "                count++;\n",
    "            if (good_man == 'B')    // B说了真话\n",
    "                count++;\n",
    "            if (good_man == 'D')    // C说了真话\n",
    "                count++;\n",
    "            if (good_man != 'D')    // D说了真话\n",
    "                count++;\n",
    "            if (count == 3)\n",
    "                cout << good_man << endl;\n",
    "    }\n",
    "    }\n",
    "}"
   ]
  },
  {
   "cell_type": "code",
   "execution_count": 1,
   "metadata": {},
   "outputs": [
    {
     "name": "stdout",
     "output_type": "stream",
     "text": [
      "B\n"
     ]
    }
   ],
   "source": [
    "#include <iostream>\n",
    "using namespace std;\n",
    "\n",
    "char good_man;\n",
    "good_man = 'B';\n",
    "int count = 0;\n",
    "\n",
    "if (good_man != 'A')    // A说了真话\n",
    "    count++;\n",
    "if (good_man == 'B')    // B说了真话\n",
    "    count++;\n",
    "if (good_man == 'D')    // C说了真话\n",
    "    count++;\n",
    "if (good_man != 'D')    // D说了真话\n",
    "    count++;\n",
    "if (count == 3)\n",
    "    cout << good_man << endl;\n",
    "else\n",
    "    cout << \"He is\\'nt B\" << endl;"
   ]
  },
  {
   "cell_type": "markdown",
   "metadata": {},
   "source": [
    "## 循环枚举"
   ]
  },
  {
   "cell_type": "markdown",
   "metadata": {},
   "source": [
    "- 循环语句：`for`\n",
    "\n",
    "- ![](images/004-02.png)\n",
    "- ![](images/004-03.png)"
   ]
  },
  {
   "cell_type": "markdown",
   "metadata": {},
   "source": [
    "- `break`: 跳出循环\n",
    "\n",
    "![](images/004-04.png)"
   ]
  },
  {
   "cell_type": "code",
   "execution_count": 1,
   "metadata": {},
   "outputs": [
    {
     "name": "stdout",
     "output_type": "stream",
     "text": [
      "B\n"
     ]
    }
   ],
   "source": [
    "#include <iostream>\n",
    "using namespace std;\n",
    "\n",
    "char good_man;\n",
    "\n",
    "for (good_man = 'A'; good_man <= 'D'; good_man++)\n",
    "{\n",
    "    int count = 0;\n",
    "\n",
    "    if (good_man != 'A')    // A说了真话\n",
    "        count++;\n",
    "    if (good_man == 'B')    // B说了真话\n",
    "        count++;\n",
    "    if (good_man == 'D')    // C说了真话\n",
    "        count++;\n",
    "    if (good_man != 'D')    // D说了真话\n",
    "        count++;\n",
    "    if (count == 3)\n",
    "    {\n",
    "        cout << good_man << endl;\n",
    "        break;\n",
    "    }\n",
    "}"
   ]
  },
  {
   "cell_type": "markdown",
   "metadata": {},
   "source": [
    "- 枚举很重要\n",
    "- 枚举往往通过循环实现\n",
    "- 合理巧妙设计 `表达式1、2、3` \n",
    "- 依次不遗漏的枚举所有可能答案"
   ]
  },
  {
   "cell_type": "markdown",
   "metadata": {},
   "source": [
    "# 谁是嫌疑犯"
   ]
  },
  {
   "cell_type": "markdown",
   "metadata": {},
   "source": [
    "bmbmba"
   ]
  },
  {
   "cell_type": "markdown",
   "metadata": {},
   "source": [
    "## 多重循环枚举"
   ]
  },
  {
   "cell_type": "markdown",
   "metadata": {},
   "source": []
  },
  {
   "cell_type": "markdown",
   "metadata": {},
   "source": []
  },
  {
   "cell_type": "markdown",
   "metadata": {},
   "source": [
    "## 破案线索表示"
   ]
  },
  {
   "cell_type": "markdown",
   "metadata": {},
   "source": []
  },
  {
   "cell_type": "markdown",
   "metadata": {},
   "source": []
  },
  {
   "cell_type": "markdown",
   "metadata": {},
   "source": [
    "## 用二进制枚举"
   ]
  },
  {
   "cell_type": "markdown",
   "metadata": {},
   "source": []
  },
  {
   "cell_type": "markdown",
   "metadata": {},
   "source": []
  },
  {
   "cell_type": "markdown",
   "metadata": {},
   "source": [
    "# 程设论道"
   ]
  },
  {
   "cell_type": "markdown",
   "metadata": {},
   "source": []
  },
  {
   "cell_type": "markdown",
   "metadata": {},
   "source": []
  }
 ],
 "metadata": {
  "kernelspec": {
   "display_name": "C++11",
   "language": "C++11",
   "name": "xcpp11"
  },
  "language_info": {
   "codemirror_mode": "text/x-c++src",
   "file_extension": ".cpp",
   "mimetype": "text/x-c++src",
   "name": "c++",
   "version": "11"
  }
 },
 "nbformat": 4,
 "nbformat_minor": 4
}
