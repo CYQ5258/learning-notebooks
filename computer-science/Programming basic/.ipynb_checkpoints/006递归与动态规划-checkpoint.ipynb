{
 "cells": [
  {
   "cell_type": "markdown",
   "metadata": {},
   "source": [
    "# 兔子数列问题"
   ]
  },
  {
   "cell_type": "markdown",
   "metadata": {},
   "source": [
    "## 问题描述"
   ]
  },
  {
   "cell_type": "markdown",
   "metadata": {},
   "source": [
    "## 按大小兔子分别递推\n",
    "- ![](images/006-0101.png)\n",
    "- ![](images/006-0102.png)\n",
    "- ![](images/006-0103.png)"
   ]
  },
  {
   "cell_type": "markdown",
   "metadata": {},
   "source": [
    "## 按总数递推\n",
    "- ![](images/006-0104.png)\n",
    "- ![](images/006-0105.png)\n",
    "- ![](images/006-0106.png)\n",
    "\n",
    "- 对比：![](images/006-0107.png)"
   ]
  },
  {
   "cell_type": "markdown",
   "metadata": {},
   "source": [
    "## 不用数组递推\n",
    "- ![](images/006-0108.png)\n",
    "- ![](images/006-0109.png)"
   ]
  },
  {
   "cell_type": "markdown",
   "metadata": {},
   "source": [
    "# 分鱼问题"
   ]
  },
  {
   "cell_type": "markdown",
   "metadata": {},
   "source": [
    "## 问题描述\n",
    "- ![](images/006-0200.png)\n",
    "- ![](images/006-0201.png)"
   ]
  },
  {
   "cell_type": "markdown",
   "metadata": {},
   "source": [
    "## 从A到E递推\n",
    "- ![](images/006-0202.png)\n",
    "- 优化代码：\n",
    "    - 优化1: ![](images/006-0203.png)\n",
    "    - 进一步优化：\n",
    "        - 初始值\n",
    "        - 枚举步长取值\n",
    "        - 考虑到整数除法得到的还是整数"
   ]
  },
  {
   "cell_type": "markdown",
   "metadata": {},
   "source": [
    "## 从E到A递推\n",
    "- ![](images/006-0204.png)\n",
    "- 代码优化\n",
    "    - ![](images/006-0205.png)\n",
    "    - 枚举步长优化\n",
    "    - 初始值优化\n",
    "    - 递推公式与前一项有关，可以考虑不用数组"
   ]
  },
  {
   "cell_type": "markdown",
   "metadata": {},
   "source": [
    "# 橱窗的插花问题"
   ]
  },
  {
   "cell_type": "markdown",
   "metadata": {},
   "source": [
    "## 问题描述"
   ]
  },
  {
   "cell_type": "markdown",
   "metadata": {},
   "source": [
    "## 题意理解与分析\n",
    "- 二进制表示：\n",
    "    - ![](images/006-0301.png)"
   ]
  },
  {
   "cell_type": "markdown",
   "metadata": {},
   "source": [
    "## 用枚举思想解题\n",
    "\n",
    "- 详细设计流程：\n",
    "    - 定义变量\n",
    "    - 枚举过程\n",
    "    - ![](images/006-0302.png)\n",
    "    - ![](images/006-0303.png)"
   ]
  },
  {
   "cell_type": "markdown",
   "metadata": {},
   "source": [
    "## 采用递推的优化算法\n",
    "- 存在重复计算\n",
    "    - 保存部分插花的美感得分和\n",
    "    - ![](images/006-0304.png)\n",
    "\n",
    "- 写成递推公式\n",
    "    - ![](images/006-0305.png)\n",
    "    - 流程图对比：![](images/006-0306.png)\n",
    "    - 翻译代码：![](images/006-0307.png)"
   ]
  },
  {
   "cell_type": "markdown",
   "metadata": {},
   "source": [
    "## 采用动态规划算法——优化分析\n",
    "- 对前三个花瓶插两朵花进行分析：\n",
    "    - ![](images/006-0308.png)\n",
    "    - 找最优的部分方案：![](images/006-0309.png)"
   ]
  },
  {
   "cell_type": "markdown",
   "metadata": {},
   "source": [
    "## 采用动态规划算法——递推代码\n",
    "- 新花瓶插花：![](images/006-0310.png)\n",
    "- 新花瓶不插花：![](images/006-0311.png)\n",
    "- 两者对比，并且选择最优：![](images/006-0312.png)"
   ]
  },
  {
   "cell_type": "markdown",
   "metadata": {},
   "source": [
    "## 采用动态规划算法——计算过程\n",
    "- 图示计算过程：![](images/006-0313.png)"
   ]
  },
  {
   "cell_type": "markdown",
   "metadata": {},
   "source": [
    "## 采用动态规划算法——输出方案\n",
    "- 方案设计：![](images/006-03014.png)\n",
    "- 代码实现：\n",
    "    - ![](images/006-0315.png)\n",
    "    - ![](images/006-0316.png)"
   ]
  },
  {
   "cell_type": "markdown",
   "metadata": {},
   "source": [
    "## 动态规划总结\n",
    "- ![](images/006-0317.png)\n",
    "- 运用动态规划方法解体的一些经验\n",
    "    - 把问题分解为多个阶段\n",
    "        - 每个阶段面临的都是与愿问题相似的子问题\n",
    "        - 子问题的最优解能够累积得到整体\n",
    "            - 最优解，或者说整体最优解的每个阶段都是子问题的最优解（最优性原理）\n",
    "    - 找出每个阶段下的多个状态\n",
    "        - 考虑每个状态下有那些可选择的决策\n",
    "        - 找出每个状态下的最优决策\n",
    "        - 写出最优决策下状态转移的递推公式\n",
    "        - 考虑递推的放向，并由此确定递推初始值\n",
    "        - 考虑如何记录最优决策，以便输出整体最优解"
   ]
  },
  {
   "cell_type": "markdown",
   "metadata": {},
   "source": [
    "# 最长公共子序列问题"
   ]
  },
  {
   "cell_type": "markdown",
   "metadata": {},
   "source": [
    "## 问题描述与理解"
   ]
  },
  {
   "cell_type": "markdown",
   "metadata": {},
   "source": [
    "## 问题分析"
   ]
  },
  {
   "cell_type": "markdown",
   "metadata": {},
   "source": [
    "## 动态规划解题"
   ]
  },
  {
   "cell_type": "markdown",
   "metadata": {},
   "source": [
    "## 动态规划编码"
   ]
  },
  {
   "cell_type": "markdown",
   "metadata": {},
   "source": [
    "# 程设论道\n",
    "- `递归` 与 `递推` ：\n",
    "- 动态优化\n",
    "    - 局部最优值与整体最优值之间有特定的关系"
   ]
  },
  {
   "cell_type": "markdown",
   "metadata": {},
   "source": []
  },
  {
   "cell_type": "markdown",
   "metadata": {},
   "source": []
  },
  {
   "cell_type": "markdown",
   "metadata": {},
   "source": []
  }
 ],
 "metadata": {
  "kernelspec": {
   "display_name": "C++11",
   "language": "C++11",
   "name": "xcpp11"
  },
  "language_info": {
   "codemirror_mode": "text/x-c++src",
   "file_extension": ".cpp",
   "mimetype": "text/x-c++src",
   "name": "c++",
   "version": "11"
  },
  "toc-autonumbering": true
 },
 "nbformat": 4,
 "nbformat_minor": 4
}
