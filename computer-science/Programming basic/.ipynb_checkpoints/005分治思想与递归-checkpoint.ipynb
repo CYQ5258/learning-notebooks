{
 "cells": [
  {
   "cell_type": "markdown",
   "metadata": {},
   "source": [
    "# 阶乘"
   ]
  },
  {
   "cell_type": "markdown",
   "metadata": {},
   "source": [
    "## 阶乘问题\n",
    "- ![](images/006-01.png)\n",
    "- 使用函数求解：\n",
    "    - ![](images/006-02.png)\n",
    "    - 利用 `1的阶乘是1，向后计算` ![](images/006-03.png)"
   ]
  },
  {
   "cell_type": "markdown",
   "metadata": {},
   "source": [
    "## 递归解法\n",
    "- 函数 `自己调用自己` ，即递归；需要首先定义 `1的阶乘是1` ，即递归边界（`终止条件`） ![](images/006-04.png)\n",
    "    - 递归算法的出发点不是在初始条件上，而是在求解目标（递归边界）上"
   ]
  },
  {
   "cell_type": "markdown",
   "metadata": {},
   "source": [
    "## 递归小结\n",
    "- 许多实际问题往往不可能或很难找到显而易见的 `递推关系` ，这时，`递归算法` 就表现出明显的优越性\n",
    "- 递归算法比较符合人的思维方式，逻辑性强，可将问题描述的简单扼要，可读性强，易于理解"
   ]
  },
  {
   "cell_type": "markdown",
   "metadata": {},
   "source": [
    "# 排序"
   ]
  },
  {
   "cell_type": "markdown",
   "metadata": {},
   "source": [
    "## 归并排序——总体思路\n",
    "- 与折半查找相似\n",
    "- 将数组拆开，每人完成一部人\n",
    "    - 如何将排序完成的两部分合并？\n",
    "    - 依次进行枚举查找\n",
    "    - ![](images/006-05.png)\n",
    "- 是一种非常典型的递归思路"
   ]
  },
  {
   "cell_type": "markdown",
   "metadata": {},
   "source": [
    "## 归并排序——思路分解\n",
    "- ![](images/006-06.png)"
   ]
  },
  {
   "cell_type": "markdown",
   "metadata": {},
   "source": [
    "## 归并排序——代码解说\n",
    "- ![](images/006-07.png)"
   ]
  },
  {
   "cell_type": "markdown",
   "metadata": {},
   "source": [
    "## 快速排序——总体思路\n",
    "- 随机选择一个数；利用它作为中间值将整体分为两部分\n",
    "    - 处理的数据少了；规模小了\n",
    "- ![](images/006-08.png)"
   ]
  },
  {
   "cell_type": "markdown",
   "metadata": {},
   "source": [
    "## 快速排序——代码解说\n",
    "- ![](images/006-09.png)\n",
    "- 课后练习：如何实现不实用动态数组，而是在原地倒换来实现排序？"
   ]
  },
  {
   "cell_type": "markdown",
   "metadata": {},
   "source": [
    "## 排序总结\n",
    "- 将原问题拆解为两个部分\n",
    "    - 快速排序是先拆成两个部分，拆分时有一定的要求：左半部分都小\n",
    "    - 归并排序是先排序（对两部分进行排序）再合并（对排序好的两个部分再进行合并）"
   ]
  },
  {
   "cell_type": "markdown",
   "metadata": {},
   "source": [
    "# 矩阵填充（练习）"
   ]
  },
  {
   "cell_type": "markdown",
   "metadata": {},
   "source": [
    "## 矩阵填充问题\n",
    "- 首先在程序里设计好这样一个矩阵，最后一行一行输出\n",
    "    - ![](images/006-10.png)\n",
    "\n",
    "- 引入二维数组来解决\n",
    "    - 定义常量 `const int M = 5;` "
   ]
  },
  {
   "cell_type": "markdown",
   "metadata": {},
   "source": [
    "## 代码解说\n",
    "- 思路分析：![](images/006-11.png)\n",
    "- 代码翻译：![](images/006-12.png)"
   ]
  },
  {
   "cell_type": "markdown",
   "metadata": {},
   "source": [
    "# 分书与八皇后"
   ]
  },
  {
   "cell_type": "markdown",
   "metadata": {},
   "source": [
    "## 问题描述"
   ]
  },
  {
   "cell_type": "markdown",
   "metadata": {},
   "source": [
    "## 问题分析——共性\n",
    "- 分书：根据每个人喜欢的不同的数来分\n",
    "    - 行和列只能有一个元素\n",
    "- 八皇后：\n",
    "    - 行和列只能有一个元素\n",
    "    - 对角斜线上只能有一个元素"
   ]
  },
  {
   "cell_type": "markdown",
   "metadata": {},
   "source": [
    "## 问题分析——区别\n",
    "- 分书\n",
    "    - 可以设置的元素有限\n",
    "- 八皇后\n",
    "    - 所有位置均可以选择\n",
    "    \n",
    "- 解题方案\n",
    "    - 如何将可能的设置方案一次枚举出来\n",
    "    - 一次确定每行的元素的合适位置\n",
    "    - 确定一行上的元素位置后，可以删除此行，进行下一行（递归）\n",
    "    - 使用元素放置后要即使更新，\n",
    "    - 保持前后的决策的机会是对等的，即将状态回复过来（回溯）"
   ]
  },
  {
   "cell_type": "markdown",
   "metadata": {},
   "source": [
    "## 解题准备——二维数组\n",
    "- 分书：\n",
    "    - ![](images/006-13.png)\n",
    "- 八皇后：\n",
    "    - ![](images/006-18.png)"
   ]
  },
  {
   "cell_type": "markdown",
   "metadata": {},
   "source": [
    "## 解题准备——递归设计\n",
    "- 考虑我们的工作之前，先要想到我们的工作会以什么样的形式结束（终止条件）\n",
    "- 记录每一次选择\n",
    "- 每一次选择会影响后面的决策，要更新条件限制\n",
    "- 进行下一次选择\n",
    "- 恢复原有限制（回溯）"
   ]
  },
  {
   "cell_type": "markdown",
   "metadata": {},
   "source": [
    "## 代码解说——分书问题\n",
    "- 代码翻译：\n",
    "    - 主代码块：![](images/006-14.png)\n",
    "    - 递归函数代码块：![](images/006-15.png)"
   ]
  },
  {
   "cell_type": "markdown",
   "metadata": {},
   "source": [
    "## 代码解说——八皇后问题\n",
    "- ![](images/006-16.png)\n",
    "- ![](images/006-17.png)"
   ]
  },
  {
   "cell_type": "markdown",
   "metadata": {},
   "source": [
    "# 青蛙过河"
   ]
  },
  {
   "cell_type": "markdown",
   "metadata": {},
   "source": [
    "## 问题描述\n",
    "- ![](images/006-0501.png)\n",
    "- ![](images/006-0502.png)\n",
    "- 基本：\n",
    "    - 输入：\n",
    "    - 输出\n",
    "- 分析：\n",
    "    - 面对难题，通过找规律，简化问题。"
   ]
  },
  {
   "cell_type": "markdown",
   "metadata": {},
   "source": [
    "## 问题分析——简单情况\n",
    "- 简化问题：\n",
    "    - 最简单情况：河中无柱子，只有荷叶\n",
    "        - 一片荷叶：![]\n",
    "        - 两片荷叶：![]"
   ]
  },
  {
   "cell_type": "markdown",
   "metadata": {},
   "source": [
    "## 问题分析——复杂情况\n",
    "- 进一步复杂化：\n",
    "    - 注意运用 `枚举思想` \n",
    "    - 一片荷叶 + 一根石柱: ![]\n",
    "        - 将系统分为两个区域：![]\n",
    "        - 具体分析：![]"
   ]
  },
  {
   "cell_type": "markdown",
   "metadata": {},
   "source": [
    "## 问题分析——一般情况"
   ]
  },
  {
   "cell_type": "markdown",
   "metadata": {},
   "source": [
    "# 程设论道"
   ]
  },
  {
   "cell_type": "markdown",
   "metadata": {},
   "source": [
    "# 师生问答"
   ]
  }
 ],
 "metadata": {
  "kernelspec": {
   "display_name": "C++11",
   "language": "C++11",
   "name": "xcpp11"
  },
  "language_info": {
   "codemirror_mode": "text/x-c++src",
   "file_extension": ".cpp",
   "mimetype": "text/x-c++src",
   "name": "c++",
   "version": "11"
  },
  "toc-autonumbering": true,
  "toc-showmarkdowntxt": false
 },
 "nbformat": 4,
 "nbformat_minor": 4
}
