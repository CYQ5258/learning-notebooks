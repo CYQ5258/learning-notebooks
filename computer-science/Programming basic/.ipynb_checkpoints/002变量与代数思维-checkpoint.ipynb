{
 "cells": [
  {
   "cell_type": "markdown",
   "metadata": {},
   "source": [
    "# 关于超级计算机的几点思考"
   ]
  },
  {
   "cell_type": "markdown",
   "metadata": {},
   "source": [
    "使用程序写出来的所谓的超级计算器到底强大不强大呢？"
   ]
  },
  {
   "cell_type": "markdown",
   "metadata": {},
   "source": [
    "- 各种各样的函数在哪里？\n",
    "    - 软件开发工具包SDK！"
   ]
  },
  {
   "cell_type": "markdown",
   "metadata": {
    "toc-hr-collapsed": true
   },
   "source": [
    "# 电子秤模拟"
   ]
  },
  {
   "cell_type": "markdown",
   "metadata": {},
   "source": [
    "## 背景介绍及需求分析"
   ]
  },
  {
   "cell_type": "markdown",
   "metadata": {},
   "source": [
    "* 包含的内容：\n",
    "    - 显示屏\n",
    "    - 按键（不同功能，不同水果）\n",
    "    - 称量模块（测量并记录质量）\n",
    "    - 存储模块（存储水果价格）\n",
    "    - 计算模块（加法、乘法）"
   ]
  },
  {
   "cell_type": "markdown",
   "metadata": {},
   "source": [
    "- ‘超级计算器’的缺陷：\n",
    "    - 不能够设定水果的价格\n",
    "    - 不能满足不同的用户对水果的不同质量的要求"
   ]
  },
  {
   "cell_type": "markdown",
   "metadata": {},
   "source": [
    "- ‘超级计算器’用作电子秤：\n",
    "    - 需要一种“东西”，能存储数值\n",
    "    - 需要一种“方法”，能接受外界输入"
   ]
  },
  {
   "cell_type": "markdown",
   "metadata": {},
   "source": [
    "> **对应程序设计的知识点：**\n",
    "    \n",
    "        1. 变量：存储数值\n",
    "        2. 输入流对象cin：接受外界输入"
   ]
  },
  {
   "cell_type": "markdown",
   "metadata": {},
   "source": [
    "## 代码实现"
   ]
  },
  {
   "cell_type": "markdown",
   "metadata": {},
   "source": [
    "* `float`: 定义浮点数变量\n",
    "* `cout`: 从屏幕上为用户输出信息\n",
    "* `cin`: 表示输入流对象，是输入输出流库中的一部分，与相关联的输入设备是**键盘**\n",
    "    *有键盘输入的字符串形成输入流，用输入流运算符（提取操作符） `>>` 从输入流中读取数据存储到一个`事先定义好的变量`中"
   ]
  },
  {
   "cell_type": "markdown",
   "metadata": {},
   "source": []
  },
  {
   "cell_type": "markdown",
   "metadata": {},
   "source": [
    "# 变量定义与变量类型"
   ]
  },
  {
   "cell_type": "markdown",
   "metadata": {},
   "source": [
    "## 变量的基本概念：\n",
    "- 程序中经过操作，其值可以改变的量称之为变量\n",
    "- 变量在使用前必须加以声明\n",
    "- 每一个变量要有一个与其他变量不相同的`合法的名字`：第一个字符必须是字母或下划线，其后的字符只能是字母、数字和下划线，且不得与c/c++语言系统所保留的关键字相同\n",
    "    - 给变量命名时考虑实际含义，以提高程序的易读性\n",
    "    - 变量名选取原则——望文生义，约定俗成\n",
    "    - 类型 + 名称"
   ]
  },
  {
   "cell_type": "markdown",
   "metadata": {},
   "source": [
    "## 变量的数据类型\n",
    "- 基本数据类型：整型、浮点型、字符型\n",
    "- 构造数据类型：数组、结构、联合、枚举\n",
    "    - 指这种类型的数据，是由若干个基本数据类型的变量按特定的规律组合构造而成的\n",
    "- 计算机中各种数据是存储在内存空间中的\n",
    "- "
   ]
  },
  {
   "cell_type": "markdown",
   "metadata": {},
   "source": [
    "## C/C++的基本数据类型：\n",
    "- 整型，即整数类型，有四种：\n",
    "    - int整型，占用4字节（每字节8个二进制）\n",
    "    - unsigned int 无符号整型，占用4字节\n",
    "    - long int 长整型，占用4字节\n",
    "    - unsigned long int 无符号长整型，占用4字节\n",
    "- 实型。实数型\n",
    "    - \n",
    "    - \n",
    "    - \n",
    "- bool：逻辑性，占1字节\n",
    "    - true\n",
    "    - false\n",
    "- char：字符型，占1字节"
   ]
  },
  {
   "cell_type": "markdown",
   "metadata": {},
   "source": [
    "## 定义变量和变量初始化\n",
    "- 变量定义的目的，是为了指出这些变量是什么数据类型，同时为变量分配内存单元。\n",
    "    - 如定义变量名位啊的整型变量：`int a；`\n",
    "- 系统会根据上述语句的要求，分配4个字节的内存大院存放a变量的正数值。变量名a是这个内存单元的名称，&a是这个内存单元的地址\n",
    "- 定义变量的同时设置它的初始值，称为 **变量初始化** \n",
    "    - 如 `int a = 300；`"
   ]
  },
  {
   "cell_type": "markdown",
   "metadata": {},
   "source": [
    "## 变量赋值\n",
    "- `=`\n",
    "- `<变量> = <表达式>`\n",
    "- 特点：\n",
    "    - 变量必须先定义再使用\n",
    "    - 变量定义时就设定初值，称为`变量初始化`\n",
    "    - 变量地址单元中，用新值覆盖旧值\n",
    "    - 等号右边的变量，`被使用/读取` ， 其值不会改变。\n",
    "    - 等号右边的表达式中出现的所有变量都保持原来的值不变"
   ]
  },
  {
   "cell_type": "markdown",
   "metadata": {},
   "source": [
    "# 猜数游戏与数据表示"
   ]
  },
  {
   "cell_type": "markdown",
   "metadata": {},
   "source": [
    "## 猜数游戏"
   ]
  },
  {
   "cell_type": "code",
   "execution_count": null,
   "metadata": {},
   "outputs": [],
   "source": [
    "#include <iostream>\n",
    "using namespace std;\n",
    "\n",
    "int d0, d1, d2, d3, d4, d5;\n",
    "cout <<\"please input your answer\";\n",
    "cin >> d0 >> d1 >> d2 >> d3 >> d4 >> d5;\n",
    "\n",
    "cout << \"your number is: \";\n",
    "cout << d0 + d1 * 2 + d2 * 4 + d3 * 8 + d4 * 16 + d5 * 32 << endl;\n"
   ]
  },
  {
   "cell_type": "markdown",
   "metadata": {},
   "source": [
    "## 整数在计算机中的二进制表示形式：\n",
    "![](images/int_binary_represent.png)\n",
    "\n",
    "- 思考题：设有从1到N共N个正整数，如果想玩上面的猜数游戏，\n",
    "    - 需要制作多少张卡片？\n",
    "    - 各张卡片上应该分别填写那些数字呢？"
   ]
  },
  {
   "cell_type": "markdown",
   "metadata": {},
   "source": [
    "# 关于变量的讨论"
   ]
  },
  {
   "cell_type": "markdown",
   "metadata": {},
   "source": [
    "## 如果变量自定义后没有赋值（无初始值）\n",
    "- 变量的内存单元中的值是一个随机的数值，\n",
    "- 在不同的机器上、不同的环境下，单元的内容是不同的\n",
    "- 教训：使用变量之前，首先赋予一个`有意义的值`，否则将得不到想要的结果"
   ]
  },
  {
   "cell_type": "markdown",
   "metadata": {},
   "source": [
    "## 变量类型\n",
    "- 变量为什么要指定类型？\n",
    "- 不同类型，差别是什么？\n",
    "- 类型信息，用来做什么？\n",
    "    - 用途：告诉计算机如何操作数据。即，类型‘暗示’了运算的操作办法；不同类型的数值，参与运算的`操作规则`是不同的\n",
    "- 类型的作用：帮助解决运用正确的规则进行计算"
   ]
  },
  {
   "cell_type": "markdown",
   "metadata": {},
   "source": [
    "## 变量内存单元地址\n",
    "- &是一个运算符功能是`取变量的地址`，所有&n会返回变量n的内存单元地址\n",
    "- 对于内存单元地址，cout会自动以16进制形式输出地址。在这种形式输出结果中，前2个字符固定位 `0x` 或 `0X`。\n",
    "- 在输出字符变量的内存地址时，cout采取另外的特殊处理方式--不是输出字符变量的内存单元地址，而是`输出内存单元存储的字符内容`，且将`相邻的后续内存单元内容`也以字符形式输出出来，直到碰到一个`内容位0的内存单元`才停止。"
   ]
  },
  {
   "cell_type": "markdown",
   "metadata": {},
   "source": [
    "![](images/storage.png)"
   ]
  },
  {
   "cell_type": "markdown",
   "metadata": {},
   "source": [
    "## 存`变量地址`的变量--指针\n",
    "- type* var;\n",
    "- 通常称为：var是type类型的指针变量\n",
    "- type类型的变量，其`地址`值，只能赋值给type类型所对应的指针类型变量。即：用type*定义的变量"
   ]
  },
  {
   "cell_type": "code",
   "execution_count": 2,
   "metadata": {},
   "outputs": [
    {
     "name": "stdout",
     "output_type": "stream",
     "text": [
      "&n: 0x110b52720\n",
      "pn: 0x110b52720\n",
      "&pn: 0x110b52728\n"
     ]
    }
   ],
   "source": [
    "#include <iostream>\n",
    "using namespace std;\n",
    "\n",
    "int n;\n",
    "int* pn = &n;   // tpye* var\n",
    "\n",
    "cout << \"&n: \" << &n << endl;\n",
    "cout << \"pn: \" << pn << endl;\n",
    "cout << \"&pn: \" << &pn << endl;"
   ]
  },
  {
   "cell_type": "markdown",
   "metadata": {},
   "source": [
    "## 指针的 `读/写` 操作\n",
    "- 对变量地址对应的内存单元的`读写`操作：\n",
    "- ··\n",
    "- ··\n",
    "- 链表"
   ]
  },
  {
   "cell_type": "markdown",
   "metadata": {},
   "source": [
    "## 指针的 `加/减` 操作\n",
    "- \n",
    "- \n",
    "- \n",
    "- ![](images/tpye*_var.png)"
   ]
  },
  {
   "cell_type": "code",
   "execution_count": null,
   "metadata": {},
   "outputs": [
    {
     "name": "stdout",
     "output_type": "stream",
     "text": [
      "a: 5\n"
     ]
    }
   ],
   "source": [
    "#include <iostream>\n",
    "using namespace std;\n",
    "\n",
    "int a = 5;\n",
    "\n",
    "cout << \"a: \" << a << endl;\n",
    "cin >> a;\n",
    "cout << \"a: \" << a << endl;\n"
   ]
  },
  {
   "cell_type": "markdown",
   "metadata": {},
   "source": [
    "# 变量体现的计算思维"
   ]
  },
  {
   "cell_type": "markdown",
   "metadata": {},
   "source": [
    "## 变量有何用途？"
   ]
  },
  {
   "cell_type": "markdown",
   "metadata": {},
   "source": [
    "## 什么时候需要它"
   ]
  },
  {
   "cell_type": "markdown",
   "metadata": {},
   "source": [
    "## 如何使用变量"
   ]
  },
  {
   "cell_type": "markdown",
   "metadata": {},
   "source": [
    "## 如何给变量命名？"
   ]
  },
  {
   "cell_type": "markdown",
   "metadata": {},
   "source": [
    "## 与变量相关的 **`计算思维`**\n",
    "- 对抽象出来的、一般性的表达，就是我们需要用到变量的地方\n",
    "- 需要从外面 `输进来` 的值，我们需要 `有地方放它`，同时将来我们还需要有办法能够 `得到它`"
   ]
  },
  {
   "cell_type": "markdown",
   "metadata": {},
   "source": [
    "### 以**`符号形式`**表达数学公式，完成一般性的求解"
   ]
  },
  {
   "cell_type": "code",
   "execution_count": null,
   "metadata": {},
   "outputs": [],
   "source": [
    "// 以符号形式表达数学公式，完成一般性的求解\n",
    "#include <iostream>\n",
    "using namespace std;\n",
    "\n",
    "int w, h;\n",
    "cin >> w >> h;\n",
    "cout << w * h / 2 << endl;    // 三角形面积\n",
    "\n",
    "float r;\n",
    "cin >> r;\n",
    "cout << 2 * 3.1415 * r << endl;    // 圆的周长"
   ]
  },
  {
   "cell_type": "markdown",
   "metadata": {},
   "source": [
    "### **`保存`**输入的数据，用于后续的计算"
   ]
  },
  {
   "cell_type": "code",
   "execution_count": 1,
   "metadata": {},
   "outputs": [
    {
     "name": "stdin",
     "output_type": "stream",
     "text": [
      " 2\n",
      " 5\n"
     ]
    },
    {
     "name": "stdout",
     "output_type": "stream",
     "text": [
      "7\n"
     ]
    }
   ],
   "source": [
    "// 保存输入的数据，用于后续的计算\n",
    "#include <iostream>\n",
    "using namespace std;\n",
    "\n",
    "int a, b;\n",
    "\n",
    "cin >> a >> b;\n",
    "cout << a + b << endl;"
   ]
  },
  {
   "cell_type": "markdown",
   "metadata": {},
   "source": [
    "### **`保存/记录`** 中间结果，供后续语句使用"
   ]
  },
  {
   "cell_type": "code",
   "execution_count": 1,
   "metadata": {},
   "outputs": [
    {
     "name": "stdin",
     "output_type": "stream",
     "text": [
      " 2\n",
      " 325\n"
     ]
    },
    {
     "name": "stdout",
     "output_type": "stream",
     "text": [
      "27\n"
     ]
    }
   ],
   "source": [
    "// 保存/记录 中间结果，供后续语句使用\n",
    "#include <iostream>\n",
    "using namespace std;\n",
    "\n",
    "int a, b;\n",
    "\n",
    "cin >> a >> b;\n",
    "int c = a + b;\n",
    "\n",
    "cout << c / 12 << endl;"
   ]
  }
 ],
 "metadata": {
  "kernelspec": {
   "display_name": "C++11",
   "language": "C++11",
   "name": "xcpp11"
  },
  "language_info": {
   "codemirror_mode": "text/x-c++src",
   "file_extension": ".cpp",
   "mimetype": "text/x-c++src",
   "name": "c++",
   "version": "11"
  }
 },
 "nbformat": 4,
 "nbformat_minor": 4
}
