{
 "cells": [
  {
   "cell_type": "markdown",
   "metadata": {},
   "source": [
    "# 统计记录总数"
   ]
  },
  {
   "cell_type": "markdown",
   "metadata": {},
   "source": [
    "## 问题描述"
   ]
  },
  {
   "cell_type": "markdown",
   "metadata": {},
   "source": [
    "## 读文件操作\n",
    "- ![](images/007-0101.png)\n",
    "- ![](images/007-0102.png)"
   ]
  },
  {
   "cell_type": "markdown",
   "metadata": {},
   "source": [
    "# 统计活跃用户数"
   ]
  },
  {
   "cell_type": "markdown",
   "metadata": {},
   "source": [
    "## 问题分析\n",
    "- 问题1: 20个数字中有多少个不相同的数？（数字）\n",
    "    - ![](images/007-0201.png)\n",
    "- 问题2: 用户编号是否相同（字符串）\n",
    "    - ![](images/007-0202.png)"
   ]
  },
  {
   "cell_type": "markdown",
   "metadata": {},
   "source": [
    "## 字符串\n",
    "- 表达的是一片连续的空间\n",
    "- `\\0` 表示字符串结束\n",
    "- 字符数组的两种等价的初始化方法：\n",
    "    - ![](images/007-0203.png)\n",
    "    - 输入与输出\n",
    "- 字符串的声明\n",
    "    - ![](images/007-0204.png)\n",
    "    - 二维数组例子：![](images/007-0205.png)"
   ]
  },
  {
   "cell_type": "markdown",
   "metadata": {},
   "source": [
    "## 程序翻译与演示\n",
    "- ![](images/007-0206.png)\n",
    "- ![](images/007-0207.png)\n",
    "- 真实代码：\n",
    "    - ![](images/007-0208.png)\n",
    "    - ![](images/007-0209.png)"
   ]
  },
  {
   "cell_type": "markdown",
   "metadata": {},
   "source": [
    "# 统计在线时长"
   ]
  },
  {
   "cell_type": "markdown",
   "metadata": {},
   "source": [
    "## 问题分析\n",
    "- 运用 `结构` 简化时间运算函数的参数\n",
    "    - ![](images/007-0301.png)"
   ]
  },
  {
   "cell_type": "markdown",
   "metadata": {},
   "source": [
    "## 结构\n",
    "- 结构：自定义类型(可以定义变量）\n",
    "    - ![](images/007-0302.png)\n",
    "    - 2015年内求时间差（无闰年）：![](images/007-0303.png)"
   ]
  },
  {
   "cell_type": "markdown",
   "metadata": {},
   "source": [
    "## 程序翻译与演示\n",
    "- 代码翻译：\n",
    "    - ![](images/007-0304.png)\n",
    "    - ![](images/007-0305.png)\n",
    "    - ![](images/007-0306.png)\n",
    "    - ![](images/007-0307.png)\n",
    "    - ![](images/007-0308.png)"
   ]
  },
  {
   "cell_type": "markdown",
   "metadata": {},
   "source": [
    "## 写文件操作\n",
    "- 写文件：![](images/007-0309.png)\n",
    "- 将刚刚读文件的代码稍作修改即可：![](images/007-0310.png)"
   ]
  },
  {
   "cell_type": "markdown",
   "metadata": {},
   "source": [
    "# 总结\n",
    "- 字符串处理\n",
    "- 读写文本类型\n",
    "- 结构类型"
   ]
  },
  {
   "cell_type": "markdown",
   "metadata": {},
   "source": [
    "# 程设论道\n",
    "- 信息（文本）的格式\n",
    "- 格式的格式\n",
    "- 从数据中得到一些规律：数据分析"
   ]
  },
  {
   "cell_type": "code",
   "execution_count": null,
   "metadata": {},
   "outputs": [],
   "source": []
  }
 ],
 "metadata": {
  "kernelspec": {
   "display_name": "C++11",
   "language": "C++11",
   "name": "xcpp11"
  },
  "language_info": {
   "codemirror_mode": "text/x-c++src",
   "file_extension": ".cpp",
   "mimetype": "text/x-c++src",
   "name": "c++",
   "version": "11"
  },
  "toc-autonumbering": true
 },
 "nbformat": 4,
 "nbformat_minor": 4
}
