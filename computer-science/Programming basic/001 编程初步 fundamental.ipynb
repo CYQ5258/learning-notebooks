{
 "cells": [
  {
   "cell_type": "markdown",
   "metadata": {},
   "source": [
    "# 基础知识"
   ]
  },
  {
   "cell_type": "markdown",
   "metadata": {},
   "source": [
    "## 什么是程序？什么是语言？"
   ]
  },
  {
   "cell_type": "markdown",
   "metadata": {},
   "source": [
    "## 什么是程序设计"
   ]
  },
  {
   "cell_type": "markdown",
   "metadata": {},
   "source": [
    "# 买菜问题"
   ]
  },
  {
   "cell_type": "markdown",
   "metadata": {},
   "source": [
    "## 问题描述"
   ]
  },
  {
   "cell_type": "markdown",
   "metadata": {},
   "source": [
    "## 程序的基本结构"
   ]
  },
  {
   "cell_type": "markdown",
   "metadata": {},
   "source": [
    "> `#include <iostream>` 称为包含库函数\n",
    "\n",
    "> `using spacename std;` 称为命名空间\n",
    "\n",
    "> `int main()\n",
    "> {\n",
    ">     return0;\n",
    ">  }` 称为主函数"
   ]
  },
  {
   "cell_type": "markdown",
   "metadata": {},
   "source": [
    "**包含库函数**"
   ]
  },
  {
   "cell_type": "markdown",
   "metadata": {},
   "source": [
    ">* 以符号`#`开头的行，称为预编译行\n",
    ">* `#include` 称为文件包含命令\n",
    ">* `#include <iostream>` 这条命令是让文件 `iostream` 的内容包含到新建的程序中去"
   ]
  },
  {
   "cell_type": "markdown",
   "metadata": {},
   "source": [
    "**命名空间**"
   ]
  },
  {
   "cell_type": "markdown",
   "metadata": {},
   "source": [
    ">* `using namespace` 称为使用命名空间命令，是为避免同名冲突而引入的\n",
    ">* `stud` 是iostream文件中定义的一个命名空间，由它定义了C++的库标识符，比如cout等\n",
    ">* 有了`using name space std` 这句话，程序就可以直接使用std命名空间里面的标识符了"
   ]
  },
  {
   "cell_type": "markdown",
   "metadata": {},
   "source": [
    "**主函数**"
   ]
  },
  {
   "cell_type": "markdown",
   "metadata": {},
   "source": [
    ">* `int main()` 是每一个C++程序都必须有的，称为主函数，可以把它看成是程序的入口\n",
    ">* 符号 `{` 和 `}` 之间的部分是主函数的内容，分别表示主函数开始和结束\n",
    ">* 在 `main` 里面的 `int` 是标准C++所规定的，对应于在主函数结束前的 `return 0；`"
   ]
  },
  {
   "cell_type": "markdown",
   "metadata": {},
   "source": [
    "> 计算机中的函数：输入到输出的变换过程"
   ]
  },
  {
   "cell_type": "markdown",
   "metadata": {},
   "source": [
    "**标准输出**"
   ]
  },
  {
   "cell_type": "markdown",
   "metadata": {},
   "source": [
    ">* `cout` 为标准输出流对象，与显示器关联\n",
    ">* `cout` 允许使用操作符 `<<` 将数据交给标准输出（显示器）进行输出\n",
    ">* `endl` 表示换行"
   ]
  },
  {
   "cell_type": "markdown",
   "metadata": {},
   "source": [
    "**语句**"
   ]
  },
  {
   "cell_type": "markdown",
   "metadata": {},
   "source": [
    ">* 每条语句结尾必须有 `;` ，表示语句结束"
   ]
  },
  {
   "cell_type": "markdown",
   "metadata": {},
   "source": [
    "# 数学运算"
   ]
  },
  {
   "cell_type": "markdown",
   "metadata": {},
   "source": [
    "## 数学运算符"
   ]
  },
  {
   "cell_type": "markdown",
   "metadata": {},
   "source": [
    "## 数学函数"
   ]
  },
  {
   "cell_type": "markdown",
   "metadata": {},
   "source": [
    "# 格式与风格"
   ]
  },
  {
   "cell_type": "markdown",
   "metadata": {},
   "source": [
    "> 缩进\n",
    "\n",
    "> 运算符两侧加一个空格"
   ]
  },
  {
   "cell_type": "code",
   "execution_count": null,
   "metadata": {},
   "outputs": [],
   "source": []
  }
 ],
 "metadata": {
  "kernelspec": {
   "display_name": "Python 3",
   "language": "python",
   "name": "python3"
  },
  "language_info": {
   "codemirror_mode": {
    "name": "ipython",
    "version": 3
   },
   "file_extension": ".py",
   "mimetype": "text/x-python",
   "name": "python",
   "nbconvert_exporter": "python",
   "pygments_lexer": "ipython3",
   "version": "3.7.4"
  }
 },
 "nbformat": 4,
 "nbformat_minor": 4
}
