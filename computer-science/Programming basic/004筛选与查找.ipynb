{
 "cells": [
  {
   "cell_type": "markdown",
   "metadata": {},
   "source": [
    "# 插花游戏"
   ]
  },
  {
   "cell_type": "markdown",
   "metadata": {},
   "source": [
    "## 问题提出（球素数）\n",
    "- 插花过程：\n",
    "    - 第1个小朋友，給2的倍数的花瓶插上花\n",
    "    - 第2个小朋友，給3的倍数的花瓶插上花\n",
    "    - 第3个小朋友，給4的倍数的花瓶插上花\n",
    "    ···\n",
    "- 没插花的花瓶：\n",
    "    - 不是2的倍数、不是3的倍数、不是4的倍数、···\n",
    "    - 不能被2、3、4、···整除\n",
    "    - 即为 `素数` "
   ]
  },
  {
   "cell_type": "markdown",
   "metadata": {},
   "source": [
    "`枚举` 2～100的所有自然数n\n",
    "\n",
    "    判断n是否是素数\n",
    "    如果 n是素数\n",
    "        输出 n\n",
    "        \n",
    "for (int n = 2; n <= 100; n++)\n",
    "\n",
    "{\n",
    "\n",
    "    bool bPrime = ??? (n)    // 其中“？？？”为判断n是否为素数的函数名称\n",
    "    if (bPrime)\n",
    "        cout << n << endl;\n",
    "\n",
    "}\n",
    "\n",
    "- 找到/自己定义判断素数的数学函数"
   ]
  },
  {
   "cell_type": "markdown",
   "metadata": {},
   "source": [
    "## 函数探索\n",
    "\n",
    "- 函数（function）是一个具有特定 `功能` 的、相对独立的 `模块` ，能够被多次使用\n",
    "- 好那好苏设计的要素：\n",
    "    - 功能：函数的定义（Definition）\n",
    "    - 模块：函数的声明（Declaration）\n",
    "    - 使用：函数的调用（Call）\n",
    "\n",
    "- 函数的声明与定义\n",
    "    - 如果写了声明，那么函数可以写在调用前或调用后\n",
    "    - 如果不写声明，函数必须写在调用前"
   ]
  },
  {
   "cell_type": "code",
   "execution_count": 1,
   "metadata": {},
   "outputs": [
    {
     "name": "stderr",
     "output_type": "stream",
     "text": [
      "IncrementalExecutor::executeFunction: symbol '_Z7isPrimei' unresolved while linking [cling interface function]!\n",
      "You are probably missing the definition of isPrime(int)\n",
      "Maybe you need to load the corresponding shared library?\n"
     ]
    },
    {
     "ename": "Interpreter Error",
     "evalue": "",
     "output_type": "error",
     "traceback": [
      "Interpreter Error: "
     ]
    }
   ],
   "source": [
    "// \n",
    "#include <iostream>\n",
    "using namespace std;\n",
    "\n",
    "bool isPrime(int);    // 函数的声明：函数返回值类型为 bool；函数名称为‘isPrime；函数参数数据类型为 int；\n",
    "\n",
    "for (int n = 2; n <= 100; n++)\n",
    "{\n",
    "    if (isPrime(n))\n",
    "        cout << n << endl;\n",
    "}"
   ]
  },
  {
   "cell_type": "code",
   "execution_count": null,
   "metadata": {},
   "outputs": [],
   "source": [
    "// 定义函数 isPrime\n",
    "bool isPrime(int n)     // 函数的定义\n",
    "{\n",
    "    bool bPrime = true;\n",
    "    for (int i = 2; i * i <= n; i++)\n",
    "    {\n",
    "        if (n % i == 0)\n",
    "        {\n",
    "            bPrime = false;\n",
    "            break\n",
    "        }\n",
    "    }\n",
    "    return bPrime;\n",
    "}"
   ]
  },
  {
   "cell_type": "code",
   "execution_count": null,
   "metadata": {},
   "outputs": [],
   "source": [
    "// 定义函数 isPrime；更简洁的定义方式（优化代码）\n",
    "bool isPrime(int n)     // 函数的定义\n",
    "{\n",
    "    for (int i = 2; i * i <= n; i++)\n",
    "        if (n % i == 0)\n",
    "            return false;\n",
    "    return true;\n",
    "}"
   ]
  },
  {
   "cell_type": "markdown",
   "metadata": {},
   "source": [
    "![](images/005-01.png)"
   ]
  },
  {
   "cell_type": "markdown",
   "metadata": {},
   "source": [
    "## 运行演示\n",
    "- 当范围扩大之后，程序运行的时间增加（如将100变为1000000），效率较低"
   ]
  },
  {
   "cell_type": "markdown",
   "metadata": {},
   "source": [
    "# 筛法"
   ]
  },
  {
   "cell_type": "markdown",
   "metadata": {},
   "source": [
    "## 筛法思路\n",
    "- 做好一个骰子，从2开始做好编号\n",
    "- 筛去2、3、4、···的倍数（已经晒过的不用再次筛）\n",
    "- 引入 `数组`"
   ]
  },
  {
   "cell_type": "markdown",
   "metadata": {},
   "source": [
    "## 数组的定义\n",
    "- 定义数组\n",
    "- 变量初始化（要让计算机知道变量占多少空间）\n",
    "    - 只有初始化是可以批量 `赋值`\n",
    "- 数组的赋值\n",
    "    - 不能直接赋值\n",
    "    - 可以为每一项单独赋值"
   ]
  },
  {
   "cell_type": "markdown",
   "metadata": {},
   "source": [
    "![](images/005-02.png)"
   ]
  },
  {
   "cell_type": "markdown",
   "metadata": {},
   "source": [
    "## 代码翻译\n",
    "- 首先使用自然语言将解决问题的 `算法` 表示出来\n",
    "- 接着将自然语言细化，并且 `翻译` 为C++语言"
   ]
  },
  {
   "cell_type": "markdown",
   "metadata": {},
   "source": [
    "## 运行演示"
   ]
  },
  {
   "cell_type": "markdown",
   "metadata": {},
   "source": [
    "## 小朋友数人数\n",
    "- 自然语言：\n",
    "    - ![](images/005-04.png)\n",
    "- 代码翻译：\n",
    "    - ![](images/005-05.png)"
   ]
  },
  {
   "cell_type": "markdown",
   "metadata": {},
   "source": [
    "## 运行演示\n",
    "- ·"
   ]
  },
  {
   "cell_type": "markdown",
   "metadata": {},
   "source": [
    "## 韩信点兵\n",
    "- 查找问题如何使用计算机解决"
   ]
  },
  {
   "cell_type": "markdown",
   "metadata": {},
   "source": [
    "# 线性查找\n",
    "- 一次查找，逐个列举"
   ]
  },
  {
   "cell_type": "markdown",
   "metadata": {},
   "source": [
    "## 扑克查找问题\n",
    "- 首先考虑如何使用计算机表达扑克牌\n",
    "    - int\n",
    "    - char\n",
    "    - ...\n",
    "- 自然语言\n",
    "    - ![](images/005-06)"
   ]
  },
  {
   "cell_type": "markdown",
   "metadata": {},
   "source": [
    "## 扑克查找问题代码翻译\n",
    "- ![](images/005-07.png)"
   ]
  },
  {
   "cell_type": "markdown",
   "metadata": {},
   "source": [
    "## 最小值问题\n",
    "- 同样可以延伸到查找满足特定性质的元素\n",
    "- ![](images/005-08.png)"
   ]
  },
  {
   "cell_type": "markdown",
   "metadata": {},
   "source": [
    "## 最小值问题代码翻译\n",
    "- ![](images/005-09)"
   ]
  },
  {
   "cell_type": "markdown",
   "metadata": {},
   "source": [
    "# 折半查找"
   ]
  },
  {
   "cell_type": "markdown",
   "metadata": {},
   "source": [
    "## 提问\n",
    "- 顺序；找小了再找更大的；找大了找更小的"
   ]
  },
  {
   "cell_type": "markdown",
   "metadata": {},
   "source": [
    "## 折半查找思路\n",
    "- 挑选哪张牌做比较呢？\n",
    "    - 一般需那种最中间（折半）\n",
    "- ![](images/005-10.png)"
   ]
  },
  {
   "cell_type": "markdown",
   "metadata": {},
   "source": [
    "## 折半查找代码翻译\n",
    "- ![](images/005-11.png)"
   ]
  },
  {
   "cell_type": "markdown",
   "metadata": {},
   "source": [
    "## 折半查找运行演示\n",
    "- 首先要进行排列顺序"
   ]
  },
  {
   "cell_type": "markdown",
   "metadata": {},
   "source": [
    "# 排序问题"
   ]
  },
  {
   "cell_type": "markdown",
   "metadata": {},
   "source": [
    "## 插入排序\n",
    "- 插入排序法：一张一张插入\n",
    "    - 枚举每张待插入的牌\n",
    "    - 把待插的牌 `插` 到 `合适` 的位置\n",
    "        - `找` 比待插的这张牌大的最小的那张牌\n",
    "- 自然语言：\n",
    "    - ![](images/005-12.png)\n",
    "- 代码翻译\n",
    "    - ![](images/005-13.png)\n",
    "    - 优化代码：![](images/005-14.png)"
   ]
  },
  {
   "cell_type": "markdown",
   "metadata": {},
   "source": [
    "## 选择排序\n",
    "- 每次从手中 `选` 一张最小的牌扣下\n",
    "- ![](images/005-15.png)\n",
    "- ![](images/005-16.png)"
   ]
  },
  {
   "cell_type": "markdown",
   "metadata": {},
   "source": [
    "## 函数写法\n",
    "- 是否可以将排序这个问题写成一个函数呢？\n",
    "    - 插入排序函数：![](images/005-17.png)\n",
    "    - 选择排序函数：![](images/005-18.png)"
   ]
  },
  {
   "cell_type": "markdown",
   "metadata": {},
   "source": [
    "## 运行演示\n",
    "- 课下练习：`折半查找排序法`"
   ]
  },
  {
   "cell_type": "markdown",
   "metadata": {},
   "source": [
    "# 总结\n",
    "- 扩展枚举\n",
    "    - 查找\n",
    "    - 排序\n",
    "- 根据任务需要，把一部分功能定义为 `函数` ，使得设计程序时可以先专注于主体功能，再补充细枝末节\n",
    "- 为了批量定义变量，引入 `数组` ，并可以用来给没有顺序的元素一个有顺序的编号，进而应用枚举法"
   ]
  },
  {
   "cell_type": "markdown",
   "metadata": {},
   "source": [
    "# 程设论道\n",
    "- 数组与编码思维\n",
    "    - 下标访问，快速访问\n",
    "    - 要不要用数组，什么时候要使用它\n",
    "    - 有条件，直接枚举；没条件，创造条件去枚举（编号让数据变得有序）\n",
    "    - 编程最核心的问题还是你的解题思路、算法（表达一种观念/思想，解决问题）\n",
    "- 筛选\n",
    "    - 本质上来说是看待问题的不同思路\n",
    "    - 从不同的角度去看待问题\n",
    "    - 相对复杂的问题，层层筛选，分出不同的工序"
   ]
  },
  {
   "cell_type": "markdown",
   "metadata": {},
   "source": [
    "# 师生问答\n",
    "- 函数与面向对象过程编程\n",
    "    - 函数：\n",
    "        - 给不同人写（软件行业发展越来越大，需要多人配合写程序）\n",
    "        - 面向过程\n",
    "    - 面向对象\n",
    "    - 面向构建\n",
    "    - 面向侧面\n",
    "    - ····\n",
    "- 数组的下标越界\n",
    "    - 数组的下标要从 `0` 到 `元素的个数-1`"
   ]
  },
  {
   "cell_type": "code",
   "execution_count": null,
   "metadata": {},
   "outputs": [],
   "source": []
  }
 ],
 "metadata": {
  "kernelspec": {
   "display_name": "C++11",
   "language": "C++11",
   "name": "xcpp11"
  },
  "language_info": {
   "codemirror_mode": "text/x-c++src",
   "file_extension": ".cpp",
   "mimetype": "text/x-c++src",
   "name": "c++",
   "version": "11"
  }
 },
 "nbformat": 4,
 "nbformat_minor": 4
}
