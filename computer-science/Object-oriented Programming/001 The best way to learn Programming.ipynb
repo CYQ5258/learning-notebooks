{
 "cells": [
  {
   "cell_type": "markdown",
   "metadata": {},
   "source": [
    "***The Best Way to Learn Programming.***"
   ]
  },
  {
   "cell_type": "markdown",
   "metadata": {},
   "source": [
    "# 程序设计基础课程的目的"
   ]
  },
  {
   "cell_type": "markdown",
   "metadata": {},
   "source": [
    ">* 怎么吧复杂问题简单化\n",
    "\n",
    ">* 怎么从里面找到规律\n",
    "\n",
    ">* 怎么把这个规律变成思维表达\n",
    "\n",
    ">* 最后怎么把思维表达编程程序写出来"
   ]
  },
  {
   "cell_type": "markdown",
   "metadata": {},
   "source": [
    "> **First：** 培养计算思维\n",
    "\n",
    "> **Second：** 激发学术志趣\n",
    "\n",
    "> **Third：** 引领计算人生"
   ]
  },
  {
   "cell_type": "markdown",
   "metadata": {},
   "source": [
    "# 学习过程需要注意的四点"
   ]
  },
  {
   "cell_type": "markdown",
   "metadata": {},
   "source": [
    "* Red\n",
    "* Green\n",
    "\n",
    "<ol>\n",
    "<li>Bird</li>\n",
    "<li>McHale</li>\n",
    "<li>Parish</li>\n",
    "</ol>"
   ]
  },
  {
   "cell_type": "markdown",
   "metadata": {},
   "source": [
    "*single asterisks*\n",
    "\n",
    "_single underscores_\n",
    "\n",
    "**double asterisks**\n",
    "\n",
    "__double underscores__"
   ]
  },
  {
   "cell_type": "markdown",
   "metadata": {},
   "source": [
    "This is [an example] [id] reference-style link."
   ]
  },
  {
   "cell_type": "markdown",
   "metadata": {},
   "source": [
    "``There is a literal backtick (`) here.``"
   ]
  },
  {
   "cell_type": "markdown",
   "metadata": {},
   "source": [
    "*   A list item with a blockquote:\n",
    "\n",
    "    > This is a blockquote\n",
    "    > inside a list item.\n",
    "    \n",
    "*   一列表项包含一个列表区块：\n",
    "\n",
    "        <print('helloworld')>"
   ]
  },
  {
   "cell_type": "markdown",
   "metadata": {},
   "source": [
    "Please don't use any `<blink>` tags."
   ]
  },
  {
   "cell_type": "markdown",
   "metadata": {},
   "source": [
    "This is [an example](http://example.com/ \"Title\") inline link.\n",
    "\n",
    "[This link](http://example.net/) has no title attribute."
   ]
  },
  {
   "cell_type": "markdown",
   "metadata": {},
   "source": [
    "[id]: http://example.com/  \"Optional Title Here\""
   ]
  },
  {
   "cell_type": "markdown",
   "metadata": {},
   "source": [
    "***"
   ]
  },
  {
   "cell_type": "markdown",
   "metadata": {},
   "source": [
    ">* 重思路\n",
    "\n",
    "**不要**把讲到/读到的一些程序背下来，再原封不动的敲到计算机中。\n",
    "**重要的是**重视老师讲课过程中的思路；尝试按照老师的思维方式去思考问题"
   ]
  },
  {
   "cell_type": "markdown",
   "metadata": {},
   "source": [
    ">* 勤动手\n",
    "\n",
    "自己在下面写更多的练习的程序，写的多了自然就能够体会到老师讲的计算思维的感觉，让自己以后解决问题的过程运用自如"
   ]
  },
  {
   "cell_type": "markdown",
   "metadata": {},
   "source": [
    ">* 敢于提问\n",
    "\n",
    "刚开始学习肯定会遇到很多错误，不要因为害怕这些错误就不敢去写、不敢去问老师"
   ]
  },
  {
   "cell_type": "markdown",
   "metadata": {},
   "source": [
    ">* 尝试阅读\n",
    "\n",
    "同学之间相互交流彼此写的代码；\n",
    "网上有很多开源的代码。\n",
    "从别人的代码当中吸取一些经验、吸取一些教训。"
   ]
  },
  {
   "cell_type": "markdown",
   "metadata": {
    "toc-hr-collapsed": true
   },
   "source": [
    "# 语言选择"
   ]
  },
  {
   "cell_type": "markdown",
   "metadata": {},
   "source": [
    "## 针对不同类型的问题使用相对应的语言"
   ]
  },
  {
   "cell_type": "markdown",
   "metadata": {},
   "source": [
    "> **网站服务器程序设计**：PHP\n",
    "\n",
    "> **数学相关问题**：Mathematic"
   ]
  },
  {
   "cell_type": "markdown",
   "metadata": {},
   "source": [
    "## 操作系统的限制或者偏好"
   ]
  },
  {
   "cell_type": "markdown",
   "metadata": {},
   "source": [
    "> **安卓系统**：Java\n",
    "\n",
    "> **苹果系统**：Objective-C"
   ]
  },
  {
   "cell_type": "markdown",
   "metadata": {},
   "source": [
    "## 程序执行角度"
   ]
  },
  {
   "cell_type": "markdown",
   "metadata": {},
   "source": [
    "> **编译方式**：C语言为代表\n",
    "\n",
    "> **不做事先翻译**：PHP这种（将编写的文本直接交给解释器执行，解释器将文本作为字符串处理，读到一个功能就执行一个功能）\n",
    "\n",
    "> **混合式**：Java语言为代表"
   ]
  },
  {
   "cell_type": "markdown",
   "metadata": {},
   "source": []
  }
 ],
 "metadata": {
  "kernelspec": {
   "display_name": "Python 3",
   "language": "python",
   "name": "python3"
  },
  "language_info": {
   "codemirror_mode": {
    "name": "ipython",
    "version": 3
   },
   "file_extension": ".py",
   "mimetype": "text/x-python",
   "name": "python",
   "nbconvert_exporter": "python",
   "pygments_lexer": "ipython3",
   "version": "3.7.4"
  }
 },
 "nbformat": 4,
 "nbformat_minor": 4
}
