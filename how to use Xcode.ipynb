{
 "cells": [
  {
   "cell_type": "markdown",
   "metadata": {},
   "source": [
    "# keyboard shortcuts\n",
    "- 官方介绍处：`Preferences -- Key Bings`\n",
    "    - 快捷键：`command + ,`"
   ]
  },
  {
   "cell_type": "markdown",
   "metadata": {},
   "source": [
    "- 相同代码多选同时编辑：`command + control + E`\n",
    "- 代码块相关\n",
    "    - 隐藏 `{}` 中的代码块：`option + command + ‘左方向键’`\n",
    "    - 显示 `{}` 中的代码块：`option + command + ‘右方向键’`\n"
   ]
  },
  {
   "cell_type": "markdown",
   "metadata": {},
   "source": [
    "- ![](images_learn/xcode-001.png)"
   ]
  },
  {
   "cell_type": "markdown",
   "metadata": {},
   "source": [
    "# 功能"
   ]
  },
  {
   "cell_type": "markdown",
   "metadata": {},
   "source": [
    "- debug:\n",
    "    - 首先设置 `breakpoint` \n",
    "        - ![](images_learn/xcode-002.png)\n",
    "    - 接着成功的 `run` 代码（build successful）\n",
    "    - 调试代码：\n",
    "        - ![](images_learn/xcode-003.png)\n",
    "    - 查看函数调用堆栈\n",
    "        - 方法1: ![](images_learn/xcode-004.png)\n",
    "        - 方法1: ![](images_learn/xcode-005.png)"
   ]
  },
  {
   "cell_type": "markdown",
   "metadata": {},
   "source": []
  }
 ],
 "metadata": {
  "kernelspec": {
   "display_name": "C++11",
   "language": "C++11",
   "name": "xcpp11"
  },
  "language_info": {
   "codemirror_mode": "text/x-c++src",
   "file_extension": ".cpp",
   "mimetype": "text/x-c++src",
   "name": "c++",
   "version": "11"
  },
  "toc-autonumbering": true
 },
 "nbformat": 4,
 "nbformat_minor": 4
}
