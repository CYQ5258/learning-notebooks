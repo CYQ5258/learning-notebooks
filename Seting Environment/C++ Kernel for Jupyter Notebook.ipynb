{
 "cells": [
  {
   "cell_type": "markdown",
   "metadata": {},
   "source": [
    "***C++ Kernel for Jupyter Notebook***"
   ]
  },
  {
   "cell_type": "markdown",
   "metadata": {},
   "source": [
    "How to have a **C++ kernel in Jupyter notebook**, which would allow us to **run C++ code** in a dynamic manner."
   ]
  },
  {
   "cell_type": "markdown",
   "metadata": {},
   "source": [
    "# Installing Jupyter notebook"
   ]
  },
  {
   "cell_type": "markdown",
   "metadata": {},
   "source": [
    "The easiest way to install Jupyter notebook is to **[install Anaconda](https://www.continuum.io/downloads)**.\n"
   ]
  },
  {
   "cell_type": "markdown",
   "metadata": {
    "toc-hr-collapsed": false
   },
   "source": [
    "# Installing C++ kernel for Jupyter notebook: Cling"
   ]
  },
  {
   "cell_type": "markdown",
   "metadata": {
    "toc-hr-collapsed": true
   },
   "source": [
    "## The first method (ERROR)"
   ]
  },
  {
   "cell_type": "markdown",
   "metadata": {},
   "source": [
    "**[Cling](https://root.cern.ch/download/cling/)** is an **interactive C++ interpreter**; it allows us to **type and execute C++ code** dynamically, like Python or Julia."
   ]
  },
  {
   "cell_type": "markdown",
   "metadata": {},
   "source": [
    "> You firstly need to **download and extract** the one associated with you **platform** and **operating system**."
   ]
  },
  {
   "cell_type": "markdown",
   "metadata": {},
   "source": [
    "Let us pretend that the path name for the extracted folder is `/home/ubuntu_user/cling_ubuntu`.(*You need to find out how to `cd` the path of the extracted folder in your computer. My MacBook is using `option + command + C` to paste the path in `Finder`.*)"
   ]
  },
  {
   "cell_type": "markdown",
   "metadata": {},
   "source": [
    "> Open up a terminal and type the following.\n",
    "`export PATH=/home/ubuntu_user/cling_ubuntu/bin:$PATH`"
   ]
  },
  {
   "cell_type": "markdown",
   "metadata": {},
   "source": [
    "### Install Cling kernel for Jupyter "
   ]
  },
  {
   "cell_type": "markdown",
   "metadata": {},
   "source": [
    "First, in terminal we **change directory** to it."
   ]
  },
  {
   "cell_type": "markdown",
   "metadata": {},
   "source": [
    "> `cd /cling-install-prefix/share/cling/Jupyter/kernel`"
   ]
  },
  {
   "cell_type": "markdown",
   "metadata": {},
   "source": [
    "Then **install the kernel** as follows."
   ]
  },
  {
   "cell_type": "markdown",
   "metadata": {},
   "source": [
    "> `pip install -e .`"
   ]
  },
  {
   "cell_type": "markdown",
   "metadata": {},
   "source": [
    "Finally register for the kernelspec:"
   ]
  },
  {
   "cell_type": "markdown",
   "metadata": {},
   "source": [
    "> `jupyter-kernelspec install --user cling-cpp11`"
   ]
  },
  {
   "cell_type": "markdown",
   "metadata": {},
   "source": [
    "****OK****"
   ]
  },
  {
   "cell_type": "markdown",
   "metadata": {},
   "source": [
    "## The second method (OK)"
   ]
  },
  {
   "cell_type": "markdown",
   "metadata": {},
   "source": [
    "- install [exus-cling](https://github.com/jupyter-xeus/xeus-cling) environment\n",
    "    - `conda create -n cling`('cling' can be insteaded by the name you like)\n",
    "    - `conda activate cling`\n",
    "    - `conda install xeus-cling -c conda-forge`"
   ]
  },
  {
   "cell_type": "markdown",
   "metadata": {},
   "source": [
    "- register for the kernel\n",
    "    - install jupyter\n",
    "        - `pip install jupyter`\n",
    "    - find out the path of the exus-cling environment\n",
    "        - `conda env list`\n",
    "    - and enter the env using the path\n",
    "        - `cd your_cling_path` (my 'your_cling_path' is `/Library/anaconda3/envs/cling-test`)\n",
    "    - resigter kernel\n",
    "        - `jupyter kernelspec install your_xcpp_path` (my 'your_xcpp_path' is `/Library/anaconda3/envs/cling-test/share/jupyter/kernels/xcpp11`)"
   ]
  },
  {
   "cell_type": "markdown",
   "metadata": {},
   "source": [
    "- open jupyter notebook\n",
    "    - `cd` (return \"base\")\n",
    "    - `jupyter notebook`"
   ]
  },
  {
   "cell_type": "markdown",
   "metadata": {
    "toc-hr-collapsed": true
   },
   "source": [
    "## Example"
   ]
  },
  {
   "cell_type": "code",
   "execution_count": 2,
   "metadata": {
    "collapsed": true,
    "jupyter": {
     "outputs_hidden": true,
     "source_hidden": true
    }
   },
   "outputs": [
    {
     "name": "stderr",
     "output_type": "stream",
     "text": [
      "\u001b[1minput_line_10:4:1: \u001b[0m\u001b[0;1;31merror: \u001b[0m\u001b[1mfunction definition is not allowed here\u001b[0m\n",
      "{\n",
      "\u001b[0;1;32m^\n",
      "\u001b[0m"
     ]
    },
    {
     "ename": "Interpreter Error",
     "evalue": "",
     "output_type": "error",
     "traceback": [
      "Interpreter Error: "
     ]
    }
   ],
   "source": [
    "#include <iostream>\n",
    "\n",
    "using namespace std;\n",
    "\n",
    "int addition (int a, int b)\n",
    "{\n",
    "    int r;\n",
    "    r=a+b;\n",
    "    cout << \"Hello World!\" << '\\n';\n",
    "    return r;\n",
    "}\n"
   ]
  },
  {
   "cell_type": "code",
   "execution_count": 1,
   "metadata": {
    "collapsed": true,
    "jupyter": {
     "outputs_hidden": true
    }
   },
   "outputs": [
    {
     "name": "stderr",
     "output_type": "stream",
     "text": [
      "\u001b[1minput_line_8:3:12: \u001b[0m\u001b[0;1;31merror: \u001b[0m\u001b[1mfunction definition is not allowed here\u001b[0m\n",
      "int main() {\n",
      "\u001b[0;1;32m           ^\n",
      "\u001b[0m"
     ]
    },
    {
     "ename": "Interpreter Error",
     "evalue": "",
     "output_type": "error",
     "traceback": [
      "Interpreter Error: "
     ]
    }
   ],
   "source": [
    "#include <iostream>\n",
    "using namespace std;\n",
    "\n",
    "int main() {\n",
    "  cout << \"Hello World!\";\n",
    "  return 0;\n",
    "}"
   ]
  },
  {
   "cell_type": "code",
   "execution_count": 7,
   "metadata": {
    "jupyter": {
     "source_hidden": true
    }
   },
   "outputs": [
    {
     "name": "stderr",
     "output_type": "stream",
     "text": [
      "\u001b[1minput_line_17:4:1: \u001b[0m\u001b[0;1;31merror: \u001b[0m\u001b[1mfunction definition is not allowed here\u001b[0m\n",
      "{\n",
      "\u001b[0;1;32m^\n",
      "\u001b[0m"
     ]
    },
    {
     "ename": "Interpreter Error",
     "evalue": "",
     "output_type": "error",
     "traceback": [
      "Interpreter Error: "
     ]
    }
   ],
   "source": [
    "#include <iostream>\n",
    "using namespace std;\n",
    "\n",
    "int main()\n",
    "{\n",
    "    float apple_price = 3.5;            // 模拟两种水果：对应实际种种卖的水果有限\n",
    "    float banana_price = 4.2;           // 设定价格：对应水果价格在一定期间内基本固定\n",
    "    float apple_weight = 0.0;\n",
    "    float banana_weight = 0.0;\n",
    "    float total = 0.0;                  // 初始重量为零：对应电子秤不称重时度数为零\n",
    "    \n",
    "    cout << \"请输入苹果重量\" << endl;      // 对应不同用户买的重量不同，是变化的（变量）\n",
    "    cin >> apple_weight;\n",
    "    cout << \"请输入p香蕉重量\" << endl;\n",
    "    cin >> banana_weight;\n",
    "    \n",
    "    total = apple_weight * apple_price + banana_weight * banana_price;\n",
    "    \n",
    "    cout << \"应付款\" << total << endl;\n",
    "    return 0;\n",
    "}"
   ]
  },
  {
   "cell_type": "markdown",
   "metadata": {},
   "source": [
    "***=====Error=====***\n",
    "> `File \"/Users/mac/Desktop/Anaconda——Python——Programming/cling_user/share/cling/Jupyter/kernel/clingkernel.py\", line 105, in __init__\n",
    "    raise RuntimeError('Cannot find cling in $PATH. No cling, no fun.')\n",
    "RuntimeError: Cannot find cling in $PATH. No cling, no fun.`\n",
    "\n",
    "> clangdev-5.0.0       | 70.9 MB   | ########9                             |  24% \n",
    "xeus-0.20.0          | 805 KB    | ##################################### | 100% \n",
    "cling-0.5            | 17.6 MB   | ##################################### | 100% \n",
    "certifi-2019.11.28   | 148 KB    | ##################################### | 100% \n",
    "openssl-1.1.1d       | 1.9 MB    | ##################################### | 100% \n",
    "> CondaHTTPError: HTTP 000 CONNECTION FAILED for url <https://conda.anaconda.org/conda-forge/osx-64/clangdev-5.0.0-h412da45_1004.tar.bz2>\n",
    "Elapsed: -\n",
    "> An HTTP error occurred when trying to retrieve this URL.\n",
    "HTTP errors are often intermittent, and a simple retry will get you on your way.\n",
    "\n",
    "\n"
   ]
  },
  {
   "cell_type": "markdown",
   "metadata": {},
   "source": [
    "## Find out the problem"
   ]
  },
  {
   "cell_type": "markdown",
   "metadata": {},
   "source": [
    "### **First**\n",
    "\n",
    "> when i use `export PATH=/home/ubuntu_user/cling_ubuntu/bin:$PATH` it is aways return **RuntimeError: Cannot find cling**"
   ]
  },
  {
   "cell_type": "markdown",
   "metadata": {},
   "source": [
    "### **Second**  (OK)\n",
    "\n",
    "> when i use `conda install xeus-cling -c conda-forge` it is aways return **An HTTP error occurred**"
   ]
  },
  {
   "cell_type": "markdown",
   "metadata": {},
   "source": [
    "The method For the problem of Second:\n",
    "> I find out the files are restored in the /anaconda3/pkgs, and you can use the URL is returned by the error to directly download the unsuccessful files."
   ]
  },
  {
   "cell_type": "markdown",
   "metadata": {},
   "source": [
    "### Third\n",
    "- It aways return the error `input_line_17:4:1: error: function definition is not allowed here { ^ Interpreter Error: ` when I set up the environment using **the second method**."
   ]
  },
  {
   "cell_type": "code",
   "execution_count": 8,
   "metadata": {},
   "outputs": [
    {
     "name": "stderr",
     "output_type": "stream",
     "text": [
      "\u001b[1minput_line_19:3:12: \u001b[0m\u001b[0;1;31merror: \u001b[0m\u001b[1mfunction definition is not allowed here\u001b[0m\n",
      "int main() {\n",
      "\u001b[0;1;32m           ^\n",
      "\u001b[0m"
     ]
    },
    {
     "ename": "Interpreter Error",
     "evalue": "",
     "output_type": "error",
     "traceback": [
      "Interpreter Error: "
     ]
    }
   ],
   "source": [
    "#include <iostream>\n",
    "using namespace std;\n",
    "\n",
    "int main() {\n",
    "  cout << \"Hello World!\";\n",
    "  return 0;\n",
    "}"
   ]
  },
  {
   "cell_type": "markdown",
   "metadata": {},
   "source": [
    "# how to use cling"
   ]
  },
  {
   "cell_type": "markdown",
   "metadata": {},
   "source": [
    "To activate this environment, use:\n",
    "> `conda activate cling`\n",
    "\n",
    "To deactivate an active environment, use:\n",
    "> `conda deactivate`"
   ]
  },
  {
   "cell_type": "markdown",
   "metadata": {
    "toc-hr-collapsed": true
   },
   "source": [
    "# Use Xcode to program and execute C++ language."
   ]
  },
  {
   "cell_type": "markdown",
   "metadata": {},
   "source": [
    "## First: download and install Xcode in apple store."
   ]
  },
  {
   "cell_type": "markdown",
   "metadata": {},
   "source": [
    "## Second: create a new **project** for C++."
   ]
  },
  {
   "cell_type": "code",
   "execution_count": null,
   "metadata": {},
   "outputs": [],
   "source": []
  }
 ],
 "metadata": {
  "kernelspec": {
   "display_name": "C++11",
   "language": "C++11",
   "name": "xcpp11"
  },
  "language_info": {
   "codemirror_mode": "text/x-c++src",
   "file_extension": ".cpp",
   "mimetype": "text/x-c++src",
   "name": "c++",
   "version": "11"
  }
 },
 "nbformat": 4,
 "nbformat_minor": 4
}
