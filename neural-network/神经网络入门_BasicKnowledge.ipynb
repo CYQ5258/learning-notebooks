{
 "cells": [
  {
   "cell_type": "code",
   "execution_count": 3,
   "metadata": {},
   "outputs": [],
   "source": [
    "import keras"
   ]
  },
  {
   "cell_type": "code",
   "execution_count": 10,
   "metadata": {},
   "outputs": [],
   "source": [
    "import tensorflow as tf\n",
    "import numpy"
   ]
  },
  {
   "cell_type": "code",
   "execution_count": 4,
   "metadata": {},
   "outputs": [
    {
     "name": "stdout",
     "output_type": "stream",
     "text": [
      "b'Hello, TensorFlow!'\n"
     ]
    }
   ],
   "source": [
    "hello = tf.constant('Hello, TensorFlow!')\n",
    "sess = tf.Session()\n",
    "\n",
    "print(sess.run(hello))"
   ]
  },
  {
   "cell_type": "code",
   "execution_count": 9,
   "metadata": {},
   "outputs": [
    {
     "data": {
      "text/plain": [
       "42"
      ]
     },
     "execution_count": 9,
     "metadata": {},
     "output_type": "execute_result"
    }
   ],
   "source": [
    "a = tf.constant(10)\n",
    "b = tf.constant(32)\n",
    "sess.run(a+b)"
   ]
  },
  {
   "cell_type": "markdown",
   "metadata": {},
   "source": [
    "## 一、神经网络如何工作"
   ]
  },
  {
   "cell_type": "markdown",
   "metadata": {},
   "source": [
    "# 1."
   ]
  },
  {
   "cell_type": "markdown",
   "metadata": {},
   "source": [
    "有些任务（如对数百万个数字进行乘算）对计算机而言很容易，对人类而言很难；\n",
    "另一方面，有些任务（如从一群人的照片中识别面孔）对人类很容易，对计算机而言非常难。"
   ]
  },
  {
   "cell_type": "markdown",
   "metadata": {},
   "source": [
    "# 2.简单的预测机"
   ]
  },
  {
   "cell_type": "markdown",
   "metadata": {},
   "source": [
    "“更多有趣的问题是没有一个简单的数学公式将输出和输入关联起来的”\n",
    "误差值：（尝试得到一个答案，并多次改进答案————迭代）\n",
    "    使用误差值的大小来调整输出值；（训练机器，使其输出值越来越接近正确答案）\n",
    "    如果输出值越来越接近正确答案，即误差值越来越小，那么我们就不要做那么大的调整；（持续细化误差值）\n",
    "关键点：\n",
    "    神经网络和有用的计算机系统一样，都有一个输入和一个输出，并在输入和输出之间进行某种计算；\n",
    "    "
   ]
  }
 ],
 "metadata": {
  "kernelspec": {
   "display_name": "Python 3",
   "language": "python",
   "name": "python3"
  },
  "language_info": {
   "codemirror_mode": {
    "name": "ipython",
    "version": 3
   },
   "file_extension": ".py",
   "mimetype": "text/x-python",
   "name": "python",
   "nbconvert_exporter": "python",
   "pygments_lexer": "ipython3",
   "version": "3.7.4"
  }
 },
 "nbformat": 4,
 "nbformat_minor": 4
}
