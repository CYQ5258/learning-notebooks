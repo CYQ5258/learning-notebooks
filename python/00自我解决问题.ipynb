{
 "cells": [
  {
   "cell_type": "markdown",
   "metadata": {},
   "source": [
    "## **投注金额计算**"
   ]
  },
  {
   "cell_type": "code",
   "execution_count": 14,
   "metadata": {
    "jupyter": {
     "source_hidden": true
    }
   },
   "outputs": [
    {
     "name": "stdin",
     "output_type": "stream",
     "text": [
      "输入亿博账号总金额： 10620\n",
      "输入959账号总金额： 5000\n"
     ]
    },
    {
     "name": "stdout",
     "output_type": "stream",
     "text": [
      "总金额的平均每注单金额： 1562.0\n",
      "亿博账号内的平均每注单金额： 1517.142857142857\n",
      "959账号内的平均每注单金额： 1666.6666666666667\n",
      "\n",
      "平均每注最终金额： 1517.142857142857\n",
      "每注最低投注下有剩余金额的账号： 959账号\n",
      "每注最低投注下剩余总金额金额： 448.5714285714289\n"
     ]
    }
   ],
   "source": [
    "import math\n",
    "\n",
    "# 两个账号总投注量是不固定的\n",
    "total_all = 0\n",
    "\n",
    "# 每个账号的总投注量：\n",
    "# 需要：yibo_touzhu ≥ 10000\n",
    "\n",
    "total_num = 10\n",
    "yibo_num = 7\n",
    "jiuwujiu_num = 3\n",
    "\n",
    "# 每注投注的金额\n",
    "yibo_every = 0\n",
    "jiuwujiu_every =0\n",
    "\n",
    "# 请输入每个账户的总金额\n",
    "yibo_tot_money = int(input(\"输入亿博账号总金额：\"))\n",
    "jiuwujiu_tot_money = int(input(\"输入959账号总金额：\"))\n",
    "\n",
    "# 计算两个账号的总金额\n",
    "total_money = yibo_tot_money + jiuwujiu_tot_money\n",
    "\n",
    "# 计算两个账号总金额均分到每注后的金额\n",
    "aver_money = total_money / total_num\n",
    "\n",
    "# 计算每个账户每注金额\n",
    "yibo_every = yibo_tot_money / yibo_num\n",
    "jiuwujiu_every = jiuwujiu_tot_money / jiuwujiu_num\n",
    "\n",
    "# 计算不同定义方式的每注单之间的差值\n",
    "if yibo_every <= jiuwujiu_every:\n",
    "    diff_every = jiuwujiu_every - yibo_every\n",
    "    touzhu = yibo_every\n",
    "    residue_money = diff_every * jiuwujiu_num\n",
    "    account = \"959账号\"\n",
    "else:\n",
    "    diff_every = yibo_every - jiuwujiu_every\n",
    "    touzhu = jiuwujiu_every\n",
    "    residue_money = diff_every * yibo_num\n",
    "    account = \"亿博账号\"\n",
    "\n",
    "# 在按照每注最高金额的条件下，计算出另一个账号剩余的金额\n",
    "\n",
    "\n",
    "print(\"总金额的平均每注单金额：\", aver_money)\n",
    "print(\"亿博账号内的平均每注单金额：\", yibo_every)\n",
    "print(\"959账号内的平均每注单金额：\", jiuwujiu_every)\n",
    "print()\n",
    "print(\"平均每注最终金额：\", touzhu)\n",
    "print(\"每注最低投注下有剩余金额的账号：\", account)\n",
    "print(\"每注最低投注下剩余总金额金额：\", residue_money)"
   ]
  },
  {
   "cell_type": "markdown",
   "metadata": {},
   "source": [
    "## 进制转换"
   ]
  },
  {
   "cell_type": "code",
   "execution_count": 1,
   "metadata": {},
   "outputs": [
    {
     "name": "stdin",
     "output_type": "stream",
     "text": [
      "输入二进制数： 01011111\n"
     ]
    },
    {
     "name": "stdout",
     "output_type": "stream",
     "text": [
      "对应的十进制数为： 95\n"
     ]
    }
   ],
   "source": [
    "# 二进制转换十进制\n",
    "\n",
    "# 定义所需要的变量\n",
    "float_decimalism = 0    # 最终求得的十进制数\n",
    "int_num_place = 0\n",
    "\n",
    "# 要求用户输入二进制数\n",
    "input_binary = int(input(\"输入二进制数：\"))\n",
    "\n",
    "# main loops\n",
    "while input_binary > 0:\n",
    "    if input_binary % 2 == 0:\n",
    "        input_binary = input_binary / 10\n",
    "    else:\n",
    "        input_binary = (input_binary - 1) / 10\n",
    "        float_decimalism += 2 ** int_num_place\n",
    "    int_num_place += 1\n",
    "\n",
    "# 输出二进制对应的十进制数\n",
    "print(\"对应的十进制数为：\", float_decimalism)"
   ]
  },
  {
   "cell_type": "code",
   "execution_count": 57,
   "metadata": {},
   "outputs": [
    {
     "name": "stdout",
     "output_type": "stream",
     "text": [
      "262144\n"
     ]
    }
   ],
   "source": [
    "a = 2 ** 18\n",
    "#a += 1\n",
    "print(a)"
   ]
  },
  {
   "cell_type": "markdown",
   "metadata": {},
   "source": [
    "- 问题：为什么转换17位二进制数时没有误差，而转换18位时出现了幂次方比转换大3大误差？"
   ]
  },
  {
   "cell_type": "markdown",
   "metadata": {},
   "source": [
    "## 随机产生数字-抽签"
   ]
  },
  {
   "cell_type": "code",
   "execution_count": 10,
   "metadata": {},
   "outputs": [
    {
     "name": "stdout",
     "output_type": "stream",
     "text": [
      "5\n"
     ]
    }
   ],
   "source": [
    "import random\n",
    " \n",
    "print(random.randint(1,10))"
   ]
  },
  {
   "cell_type": "code",
   "execution_count": null,
   "metadata": {},
   "outputs": [],
   "source": []
  },
  {
   "cell_type": "code",
   "execution_count": null,
   "metadata": {},
   "outputs": [],
   "source": []
  }
 ],
 "metadata": {
  "kernelspec": {
   "display_name": "Python 3",
   "language": "python",
   "name": "python3"
  },
  "language_info": {
   "codemirror_mode": {
    "name": "ipython",
    "version": 3
   },
   "file_extension": ".py",
   "mimetype": "text/x-python",
   "name": "python",
   "nbconvert_exporter": "python",
   "pygments_lexer": "ipython3",
   "version": "3.7.4"
  }
 },
 "nbformat": 4,
 "nbformat_minor": 4
}
