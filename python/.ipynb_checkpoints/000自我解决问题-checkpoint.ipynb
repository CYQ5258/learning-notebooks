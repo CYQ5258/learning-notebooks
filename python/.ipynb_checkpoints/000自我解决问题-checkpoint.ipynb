{
 "cells": [
  {
   "cell_type": "markdown",
   "metadata": {},
   "source": [
    "**投注金额计算**"
   ]
  },
  {
   "cell_type": "code",
   "execution_count": null,
   "metadata": {},
   "outputs": [],
   "source": [
    "import math\n",
    "\n",
    "# 两个账号总投注量是不固定的\n",
    "total_all = 0\n",
    "\n",
    "# 每个账号的总投注量：\n",
    "# 需要：yibo_touzhu ≥ 10000\n",
    "\n",
    "total_num = 10\n",
    "yibo_num = 8\n",
    "jiuwujiu_num = 2\n",
    "\n",
    "# 每注投注的金额\n",
    "yibo_every = 0\n",
    "jiuwujiu_every =0\n",
    "\n",
    "# 请输入每个账户的总金额\n",
    "yibo_tot_money = int(input(\"输入亿博账号总金额：\"))\n",
    "jiuwujiu_tot_money = int(input(\"输入959账号总金额：\"))\n",
    "\n",
    "# 计算两个账号的总金额\n",
    "total_money = yibo_tot_money + jiuwujiu_tot_money\n",
    "\n",
    "# 计算两个账号总金额均分到每注后的金额\n",
    "aver_money = total_money / total_num\n",
    "\n",
    "# 计算每个账户每注金额\n",
    "yibo_every = yibo_tot_money / yibo_num\n",
    "jiuwujiu_every = jiuwujiu_tot_money / jiuwujiu_num\n",
    "\n",
    "# 计算不同定义方式的每注单之间的差值\n",
    "if yibo_every <= jiuwujiu_every:\n",
    "    diff_every = jiuwujiu_every - yibo_every\n",
    "    residue_money = diff_every * jiuwujiu_num\n",
    "else:\n",
    "    diff_every = yibo_every - jiuwujiu_every\n",
    "    residue_money = diff_every * yibo_num\n",
    "\n",
    "# 在按照每注最高金额的条件下，计算出另一个账号剩余的金额\n",
    "\n",
    "\n",
    "print(\"总金额的平均每注单金额：\", aver_money)\n",
    "print(\"亿博账号内的平均每注单金额\", yibo_every)\n",
    "print(\"959账号内的平均每注单金额\", jiuwujiu_every)\n",
    "print(\"\", res)"
   ]
  },
  {
   "cell_type": "code",
   "execution_count": null,
   "metadata": {},
   "outputs": [],
   "source": []
  }
 ],
 "metadata": {
  "kernelspec": {
   "display_name": "Python 3",
   "language": "python",
   "name": "python3"
  },
  "language_info": {
   "codemirror_mode": {
    "name": "ipython",
    "version": 3
   },
   "file_extension": ".py",
   "mimetype": "text/x-python",
   "name": "python",
   "nbconvert_exporter": "python",
   "pygments_lexer": "ipython3",
   "version": "3.7.4"
  }
 },
 "nbformat": 4,
 "nbformat_minor": 4
}
