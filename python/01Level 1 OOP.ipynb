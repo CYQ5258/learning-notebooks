{
 "cells": [
  {
   "cell_type": "markdown",
   "metadata": {},
   "source": [
    "# The concepts of OOP"
   ]
  },
  {
   "cell_type": "markdown",
   "metadata": {},
   "source": [
    "## what exactly is an object?\n",
    "- There are many different `ways, models, or paradigms` to write computer programs. One of the `most popular programming paradigms` is called object-oriented programming (OOP).\n",
    "- In object-oriented programming, an `object` refers to a `particular instance` of a `Class`.\n",
    "    - And a `Class` is like a blueprint of the `state` and `actions` that an object can take."
   ]
  },
  {
   "cell_type": "markdown",
   "metadata": {},
   "source": [
    "- As below, in OOP’s terminology:\n",
    "    - `name` and `age` are called the ***object attributes***.\n",
    "        - any **Person object** will have a **name** and an **age**. These two fields are what determines the ***state*** of the ***object***.\n",
    "    - We call `get_name` a ***method***.\n",
    "        - This method, in addition to any other methods that we define, is what determines the object’s actions."
   ]
  },
  {
   "cell_type": "code",
   "execution_count": 3,
   "metadata": {},
   "outputs": [],
   "source": [
    "class Person:\n",
    "  def __init__(self, name, age):\n",
    "    self.name = name\n",
    "    self.age = age\n",
    "  \n",
    "  def get_name(self):\n",
    "    return self.name"
   ]
  },
  {
   "cell_type": "markdown",
   "metadata": {},
   "source": [
    "> In other words, a Python object has attributes and methods that are defined in the object’s Class."
   ]
  },
  {
   "cell_type": "markdown",
   "metadata": {},
   "source": [
    "Object-oriented programming is essentially one way of structuring and designing your code.\n",
    "\n",
    "However, I want you to understand that it is not the only way, and it is not necessarily the best way."
   ]
  },
  {
   "cell_type": "markdown",
   "metadata": {},
   "source": [
    "## learn the concepts of OOP\n",
    "\n",
    "> OOP is a programming paradigm, a way of structuring and designing your code.\n",
    "\n",
    "*OOP concepts are not exclusive to Python so the concepts you will learn will easily transition to any other programming language.*"
   ]
  },
  {
   "cell_type": "markdown",
   "metadata": {},
   "source": [
    "Understand these concepts at an abstract level first before you jump into Python’s OOP."
   ]
  },
  {
   "cell_type": "markdown",
   "metadata": {},
   "source": [
    "### inheritance\n",
    "- wiki:\n",
    "    - inheritance is the mechanism of basing an object or class upon another object (prototype-based inheritance) or class (class-based inheritance), retaining similar implementation\n",
    "    - In most class-based object-oriented languages, an object created through inheritance (a \"child object\") acquires all the properties and behaviors of the parent object\n",
    "    - allows programmers to:\n",
    "        - create classes that are built upon existing classes;\n",
    "        - specify a new implementation while maintaining the same behaviors (realizing an interface);\n",
    "        - reuse code and to independently extend original software via public classes and interfaces\n",
    "    - The relationships of objects or classes through inheritance give rise to a directed graph"
   ]
  },
  {
   "cell_type": "markdown",
   "metadata": {},
   "source": [
    "#### inherited class\n"
   ]
  },
  {
   "cell_type": "markdown",
   "metadata": {},
   "source": [
    "### encapsulation"
   ]
  },
  {
   "cell_type": "markdown",
   "metadata": {},
   "source": [
    "### polymorphism"
   ]
  },
  {
   "cell_type": "markdown",
   "metadata": {},
   "source": []
  },
  {
   "cell_type": "markdown",
   "metadata": {},
   "source": []
  },
  {
   "cell_type": "markdown",
   "metadata": {},
   "source": []
  },
  {
   "cell_type": "markdown",
   "metadata": {},
   "source": []
  },
  {
   "cell_type": "markdown",
   "metadata": {},
   "source": []
  },
  {
   "cell_type": "markdown",
   "metadata": {},
   "source": []
  },
  {
   "cell_type": "markdown",
   "metadata": {},
   "source": []
  },
  {
   "cell_type": "markdown",
   "metadata": {},
   "source": []
  },
  {
   "cell_type": "markdown",
   "metadata": {},
   "source": []
  }
 ],
 "metadata": {
  "kernelspec": {
   "display_name": "Python 3",
   "language": "python",
   "name": "python3"
  },
  "language_info": {
   "codemirror_mode": {
    "name": "ipython",
    "version": 3
   },
   "file_extension": ".py",
   "mimetype": "text/x-python",
   "name": "python",
   "nbconvert_exporter": "python",
   "pygments_lexer": "ipython3",
   "version": "3.7.4"
  }
 },
 "nbformat": 4,
 "nbformat_minor": 4
}
